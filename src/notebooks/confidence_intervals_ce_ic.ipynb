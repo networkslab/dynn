{
 "cells": [
  {
   "cell_type": "code",
   "execution_count": 110,
   "id": "086a1c2c",
   "metadata": {},
   "outputs": [],
   "source": [
    "import matplotlib.pyplot as plt\n",
    "import numpy as np\n",
    "import pandas as pd\n",
    "import seaborn as sns\n",
    "import os\n",
    "import matplotlib\n",
    "import matplotlib.lines as mlines\n",
    "import pickle as pk"
   ]
  },
  {
   "cell_type": "code",
   "execution_count": 111,
   "id": "a913a5ad",
   "metadata": {},
   "outputs": [],
   "source": [
    "dataset = 'cifar10'\n",
    "model = 't2t_7'"
   ]
  },
  {
   "cell_type": "code",
   "execution_count": null,
   "id": "8f82c5a2",
   "metadata": {},
   "outputs": [],
   "source": []
  },
  {
   "cell_type": "code",
   "execution_count": 112,
   "id": "152235b0",
   "metadata": {},
   "outputs": [],
   "source": [
    "with open(dataset+'_'+model+'/'+dataset+'_boosted_results.pk', 'rb') as file:\n",
    "        list_dict_boosted = pk.load(file)\n",
    "        \n",
    "lambdas = [0.01, 0.12, 0.14, 0.16,0.2, 0.4, 0.6, 0.8]\n",
    "list_dicts_ours = []\n",
    "for lamb in lambdas:\n",
    "    with open(dataset+'_'+model+'/'+dataset+'_'+str(lamb)+'_results.pk', 'rb') as file:\n",
    "        dicts = pk.load(file)\n",
    "    list_dicts_ours.append(dicts)"
   ]
  },
  {
   "cell_type": "code",
   "execution_count": 127,
   "id": "9f86949d",
   "metadata": {},
   "outputs": [
    {
     "name": "stdout",
     "output_type": "stream",
     "text": [
      "0.8114925396825396\n",
      "switching fot 0.1\n",
      "0.6981332539682539\n",
      "switching fot 0.15\n",
      "0.5978108730158731\n",
      "switching fot 0.2\n",
      "0.5042320238095238\n",
      "switching fot 0.25\n",
      "0.4225265079365079\n",
      "0.3532934523809524\n",
      "0.2880381349206349\n",
      "0.23728757936507935\n",
      "0.1967032142857143\n",
      "0.8004758730158731\n",
      "switching fot 0.1\n",
      "0.5324227380952381\n",
      "switching fot 0.15\n",
      "0.3291998015873016\n",
      "0.19369670634920635\n",
      "0.11542992063492064\n",
      "0.06953277777777779\n",
      "0.04304500000000001\n",
      "0.026439682539682534\n",
      "0.017511904761904763\n",
      "0.779920753968254\n",
      "switching fot 0.1\n",
      "0.508007619047619\n",
      "switching fot 0.15\n",
      "0.31066654761904766\n",
      "0.17979146825396827\n",
      "0.1039623015873016\n",
      "0.06075138888888889\n",
      "0.03708940476190477\n",
      "0.02194345238095238\n",
      "0.014001507936507937\n",
      "0.7582277380952381\n",
      "switching fot 0.1\n",
      "0.48824194444444446\n",
      "0.29539055555555555\n",
      "0.1684086904761905\n",
      "0.09673694444444444\n",
      "0.056037698412698414\n",
      "0.03378373015873016\n",
      "0.01995007936507937\n",
      "0.012893849206349206\n",
      "0.7216975\n",
      "switching fot 0.1\n",
      "0.45958329365079365\n",
      "0.27321702380952384\n",
      "0.15335646825396826\n",
      "0.08596051587301587\n",
      "0.04791055555555555\n",
      "0.028031230158730158\n",
      "0.01595420634920635\n",
      "0.010348650793650795\n",
      "0.6469560317460319\n",
      "switching fot 0.1\n",
      "0.3659291666666667\n",
      "0.1879775\n",
      "0.09144452380952381\n",
      "0.04637769841269841\n",
      "0.024772380952380952\n",
      "0.013327579365079365\n",
      "0.007015039682539683\n",
      "0.00491079365079365\n",
      "0.5136836904761906\n",
      "switching fot 0.1\n",
      "0.23036551587301587\n",
      "0.1047672619047619\n",
      "0.04883488095238095\n",
      "0.024395555555555552\n",
      "0.013325119047619047\n",
      "0.007499761904761905\n",
      "0.0039766269841269835\n",
      "0.0028873809523809525\n",
      "0.3506163888888889\n",
      "0.1338223015873016\n",
      "0.05646519841269841\n",
      "0.025116706349206347\n",
      "0.011195793650793652\n",
      "0.005860833333333333\n",
      "0.0037412698412698413\n",
      "0.002215634920634921\n",
      "0.0014867460317460317\n"
     ]
    }
   ],
   "source": [
    "def extract_metrics_we_want(metrics_dict, keys_we_want):\n",
    "    metrics_we_want = {}\n",
    "    for key, val in metrics_dict.items():\n",
    "        if key in keys_we_want:\n",
    "            metrics_we_want[key] = val\n",
    "    return metrics_we_want\n",
    "\n",
    "def get_all_cov_C(metrics):\n",
    "    cov_keys = []\n",
    "    C_keys = []\n",
    "    for key in metrics.keys():\n",
    "        if 'test/gen_cov' in key:\n",
    "            alpha = key.split('test/gen_cov')[1]\n",
    "            cov_key = 'test/gen_cov'+alpha\n",
    "            C_key = 'test/gen_C'+alpha\n",
    "            cov_keys.append(cov_key)\n",
    "            C_keys.append(C_key)\n",
    "    return cov_keys, C_keys\n",
    "\n",
    "def find_highest_cov(metrics_we_care_about, cov_keys):\n",
    "    alpha_max = 0\n",
    "    requested_alpha = 0.5\n",
    "    for cov_key in cov_keys:\n",
    "        alpha_val = float(cov_key.split('_')[-1])\n",
    "        emp_cov = metrics_we_care_about['average'+cov_key]\n",
    "        print(emp_cov)\n",
    "        if 1-emp_cov< requested_alpha:\n",
    "            if alpha_max < alpha_val:\n",
    "                alpha_max = alpha_val\n",
    "                print('switching fot', alpha_val)\n",
    "    #print('highest alpha is ', alpha_max, 'with emp cov', )\n",
    "    return alpha_max\n",
    "            \n",
    "        \n",
    "our_df = pd.DataFrame()\n",
    "keys_we_want = ['test/acc_exit','test/total_cost', 'test/gated_acc', 'test/gated_ece', 'test/gated_ece']\n",
    "cov_keys, C_keys = get_all_cov_C(list_dicts_ours[0])\n",
    "keys_we_want = keys_we_want + cov_keys + C_keys\n",
    "for metrics in list_dicts_ours:\n",
    "    \n",
    "    metrics_we_care_about = extract_metrics_we_want(metrics, keys_we_want)\n",
    "    metrics_we_care_about['average_IC'] = np.mean(metrics_we_care_about['test/total_cost'])\n",
    "    metrics_we_care_about['average_ACC'] = np.mean(metrics_we_care_about['test/gated_acc'])\n",
    "    for cov_key in cov_keys:\n",
    "        metrics_we_care_about['average'+cov_key] = np.mean(metrics_we_care_about[cov_key])\n",
    "    for C_key in C_keys:\n",
    "        metrics_we_care_about['average'+C_key] = np.mean(metrics_we_care_about[C_key])\n",
    "    \n",
    "    alpha_max = find_highest_cov(metrics_we_care_about, cov_keys)\n",
    "    \n",
    "    \n",
    "    df = pd.DataFrame(data=metrics_we_care_about)\n",
    "    \n",
    "    our_df = pd.concat([df, our_df],axis=0, ignore_index=True)"
   ]
  },
  {
   "cell_type": "code",
   "execution_count": 86,
   "id": "1308978f",
   "metadata": {},
   "outputs": [],
   "source": [
    "boosted_df = pd.DataFrame()\n",
    "for metrics in list_dict_boosted:\n",
    "    metrics['average_IC'] = np.mean(metrics['EXPECTED_FLOPS'])\n",
    "    metrics['average_ACC'] = np.mean(metrics['ACC'])\n",
    "    df = pd.DataFrame(data=metrics)\n",
    "    boosted_df = pd.concat([df, boosted_df],axis=0, ignore_index=True)"
   ]
  },
  {
   "cell_type": "code",
   "execution_count": 87,
   "id": "1659abe2",
   "metadata": {},
   "outputs": [
    {
     "data": {
      "image/png": "[encoded data removed]",
      "text/plain": [
       "<Figure size 432x288 with 1 Axes>"
      ]
     },
     "metadata": {},
     "output_type": "display_data"
    }
   ],
   "source": [
    "sns.set(font_scale=1.5)  # crazy big\n",
    "filtered_boosted_df = boosted_df[boosted_df['average_IC'].between(45, 100)]\n",
    "filtered_our_df = our_df[our_df['average_IC'].between(50, 100)]\n",
    "sns.lineplot(data=filtered_boosted_df, x=\"average_IC\", y=\"ACC\", label=\"ConfEE\")\n",
    "sns.lineplot(data=filtered_our_df, x=\"average_IC\", y=\"test/gated_acc\", label=\"BoostedNet\")\n",
    "plt.xlabel('IC')\n",
    "plt.ylabel('Accuracy')\n",
    "plt.savefig('perf_cost_'+dataset+'.pdf')"
   ]
  },
  {
   "cell_type": "code",
   "execution_count": 88,
   "id": "82d51471",
   "metadata": {},
   "outputs": [
    {
     "data": {
      "image/png": "[encoded data removed]",
      "text/plain": [
       "<Figure size 432x288 with 1 Axes>"
      ]
     },
     "metadata": {},
     "output_type": "display_data"
    }
   ],
   "source": [
    "sns.set(font_scale=1.5)  # crazy big\n",
    "filtered_boosted_df = boosted_df[boosted_df['average_ACC'].between(45, 100)]\n",
    "filtered_our_df = our_df[our_df['average_ACC'].between(50, 100)]\n",
    "sns.lineplot(data=filtered_boosted_df, x=\"average_ACC\", y=\"ECE\", label=\"ConfEE\")\n",
    "sns.lineplot(data=filtered_our_df, x=\"average_ACC\", y=\"test/gated_ece\", label=\"BoostedNet\")\n",
    "plt.xlabel('Accuracy')\n",
    "plt.ylabel('ECE')\n",
    "plt.savefig('perf_ece_'+dataset+'.pdf')"
   ]
  },
  {
   "cell_type": "code",
   "execution_count": null,
   "id": "c9f434e2",
   "metadata": {},
   "outputs": [],
   "source": [
    "\n"
   ]
  },
  {
   "cell_type": "code",
   "execution_count": null,
   "id": "f9f9660a",
   "metadata": {},
   "outputs": [],
   "source": []
  },
  {
   "cell_type": "code",
   "execution_count": null,
   "id": "b2245aac",
   "metadata": {},
   "outputs": [],
   "source": [
    "\n"
   ]
  },
  {
   "cell_type": "code",
   "execution_count": null,
   "id": "e0123f6e",
   "metadata": {},
   "outputs": [],
   "source": []
  }
 ],
 "metadata": {
  "kernelspec": {
   "display_name": "Python 3 (ipykernel)",
   "language": "python",
   "name": "python3"
  },
  "language_info": {
   "codemirror_mode": {
    "name": "ipython",
    "version": 3
   },
   "file_extension": ".py",
   "mimetype": "text/x-python",
   "name": "python",
   "nbconvert_exporter": "python",
   "pygments_lexer": "ipython3",
   "version": "3.9.5"
  }
 },
 "nbformat": 4,
 "nbformat_minor": 5
}
