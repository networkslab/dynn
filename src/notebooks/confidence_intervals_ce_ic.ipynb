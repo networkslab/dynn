{
 "cells": [
  {
   "cell_type": "code",
   "execution_count": 101,
   "id": "086a1c2c",
   "metadata": {},
   "outputs": [],
   "source": [
    "import matplotlib.pyplot as plt\n",
    "import numpy as np\n",
    "import pandas as pd\n",
    "import seaborn as sns\n",
    "import os\n",
    "import matplotlib\n",
    "import matplotlib.lines as mlines\n",
    "import pickle as pk"
   ]
  },
  {
   "cell_type": "code",
   "execution_count": 102,
   "id": "da8c0248",
   "metadata": {},
   "outputs": [],
   "source": [
    "dataset = 'svhn'\n",
    "\n",
    "if dataset == 'cifar10':\n",
    "    min_ic = 9\n",
    "    model = 't2t_7'\n",
    "    max_ic = 11.5\n",
    "    point_1_ic = 10\n",
    "    point_2_ic = 12\n",
    "    total_mudaa = 13.4\n",
    "    end_acc = 94.5\n",
    "elif dataset == 'cifar100':\n",
    "    min_ic = 15\n",
    "    model = 't2t_14'\n",
    "    max_ic = 100\n",
    "    total_mudaa = 56\n",
    "    end_acc = 88.4\n",
    "elif dataset == 'svhn':\n",
    "    min_ic = 0\n",
    "    model = 't2t_7'\n",
    "    max_ic = 100\n",
    "    total_mudaa = 13.4\n",
    "    end_acc = 91"
   ]
  },
  {
   "cell_type": "code",
   "execution_count": 103,
   "id": "ca4a6fc8",
   "metadata": {},
   "outputs": [
    {
     "ename": "FileNotFoundError",
     "evalue": "[Errno 2] No such file or directory: 'svhn_t2t_7/svhn_weighted_results.pk'",
     "output_type": "error",
     "traceback": [
      "\u001b[0;31m---------------------------------------------------------------------------\u001b[0m",
      "\u001b[0;31mFileNotFoundError\u001b[0m                         Traceback (most recent call last)",
      "\u001b[0;32m/tmp/ipykernel_12250/1603810338.py\u001b[0m in \u001b[0;36m<module>\u001b[0;34m\u001b[0m\n\u001b[1;32m      2\u001b[0m         \u001b[0mlist_dict_boosted\u001b[0m \u001b[0;34m=\u001b[0m \u001b[0mpk\u001b[0m\u001b[0;34m.\u001b[0m\u001b[0mload\u001b[0m\u001b[0;34m(\u001b[0m\u001b[0mfile\u001b[0m\u001b[0;34m)\u001b[0m\u001b[0;34m\u001b[0m\u001b[0;34m\u001b[0m\u001b[0m\n\u001b[1;32m      3\u001b[0m \u001b[0;34m\u001b[0m\u001b[0m\n\u001b[0;32m----> 4\u001b[0;31m \u001b[0;32mwith\u001b[0m \u001b[0mopen\u001b[0m\u001b[0;34m(\u001b[0m\u001b[0mdataset\u001b[0m\u001b[0;34m+\u001b[0m\u001b[0;34m'_'\u001b[0m\u001b[0;34m+\u001b[0m\u001b[0mmodel\u001b[0m\u001b[0;34m+\u001b[0m\u001b[0;34m'/'\u001b[0m\u001b[0;34m+\u001b[0m\u001b[0mdataset\u001b[0m\u001b[0;34m+\u001b[0m\u001b[0;34m'_weighted_results.pk'\u001b[0m\u001b[0;34m,\u001b[0m \u001b[0;34m'rb'\u001b[0m\u001b[0;34m)\u001b[0m \u001b[0;32mas\u001b[0m \u001b[0mfile\u001b[0m\u001b[0;34m:\u001b[0m\u001b[0;34m\u001b[0m\u001b[0;34m\u001b[0m\u001b[0m\n\u001b[0m\u001b[1;32m      5\u001b[0m         \u001b[0mlist_dict_weighted\u001b[0m \u001b[0;34m=\u001b[0m \u001b[0mpk\u001b[0m\u001b[0;34m.\u001b[0m\u001b[0mload\u001b[0m\u001b[0;34m(\u001b[0m\u001b[0mfile\u001b[0m\u001b[0;34m)\u001b[0m\u001b[0;34m\u001b[0m\u001b[0;34m\u001b[0m\u001b[0m\n\u001b[1;32m      6\u001b[0m \u001b[0;34m\u001b[0m\u001b[0m\n",
      "\u001b[0;31mFileNotFoundError\u001b[0m: [Errno 2] No such file or directory: 'svhn_t2t_7/svhn_weighted_results.pk'"
     ]
    }
   ],
   "source": [
    "with open(dataset+'_'+model+'/'+dataset+'_boosted_results.pk', 'rb') as file:\n",
    "        list_dict_boosted = pk.load(file)\n",
    "        \n",
    "with open(dataset+'_'+model+'/'+dataset+'_weighted_results.pk', 'rb') as file:\n",
    "        list_dict_weighted = pk.load(file)\n",
    "        "
   ]
  },
  {
   "cell_type": "code",
   "execution_count": 104,
   "id": "152235b0",
   "metadata": {},
   "outputs": [
    {
     "name": "stdout",
     "output_type": "stream",
     "text": [
      "bigger_runs_svhn_0.8_results.pk\n",
      "bigger_runs_svhn_0.9_results.pk\n",
      "bigger_runs_svhn_0.55_results.pk\n",
      "bigger_runs_svhn_0.6_results.pk\n",
      "bigger_runs_svhn_0.3_results.pk\n",
      "bigger_runs_svhn_0.01_results.pk\n"
     ]
    }
   ],
   "source": [
    "path = dataset+'_'+model+'/'\n",
    "list_files = os.listdir(path)\n",
    "\n",
    "list_dicts_ours = []\n",
    "for file_name in list_files:\n",
    "   \n",
    "    if '.pk' in file_name and 'boosted' not in file_name and 'weighted' not in file_name:\n",
    "        print(file_name)\n",
    "        with open(os.path.join(path, file_name), 'rb') as file:\n",
    "            dicts = pk.load(file)\n",
    "        list_dicts_ours.append(dicts)\n"
   ]
  },
  {
   "cell_type": "code",
   "execution_count": null,
   "id": "3c27f519",
   "metadata": {},
   "outputs": [],
   "source": []
  },
  {
   "cell_type": "code",
   "execution_count": 105,
   "id": "b03ab5d4",
   "metadata": {},
   "outputs": [],
   "source": [
    "def extract_metrics_we_want(metrics_dict, keys_we_want):\n",
    "    metrics_we_want = {}\n",
    "    for key, val in metrics_dict.items():\n",
    "        if key in keys_we_want:\n",
    "            metrics_we_want[key] = val\n",
    "    return metrics_we_want\n",
    "\n",
    "def get_all_cov_C(metrics):\n",
    "    cov_keys = []\n",
    "    C_keys = []\n",
    "    for key in metrics.keys():\n",
    "        if 'cov' in key:\n",
    "            tokens = key.split('cov')\n",
    "            alpha = tokens[1]\n",
    "            prefix = tokens[0]\n",
    "            cov_key = prefix+'cov'+alpha\n",
    "            C_key = prefix+'C'+alpha\n",
    "            cov_keys.append(cov_key)\n",
    "            C_keys.append(C_key)\n",
    "    return cov_keys, C_keys\n",
    "def get_all_key_with(metrics, substring):\n",
    "    keys_with_substring = []\n",
    "    for key in metrics.keys():\n",
    "        if substring in key:\n",
    "            keys_with_substring.append(key)\n",
    "    return keys_with_substring\n",
    "\n",
    "def find_highest_cov(metrics_we_care_about, cov_keys, requested_alpha):\n",
    "    alpha_max = 0\n",
    "    for cov_key in cov_keys:\n",
    "        alpha_val = float(cov_key.split('_')[-1])\n",
    "        emp_cov = metrics_we_care_about['average'+cov_key]\n",
    "        #print(emp_cov)\n",
    "        if 1-emp_cov< requested_alpha:\n",
    "            if alpha_max < alpha_val:\n",
    "                alpha_max = alpha_val\n",
    "                #print('switching fot', alpha_val)\n",
    "    #print('highest alpha is ', alpha_max, 'with emp cov', )\n",
    "    return alpha_max\n",
    "            \n",
    "        \n"
   ]
  },
  {
   "cell_type": "code",
   "execution_count": 106,
   "id": "a9d5c642",
   "metadata": {},
   "outputs": [
    {
     "name": "stdout",
     "output_type": "stream",
     "text": [
      "['test/acc_exit', 'test/total_cost', 'test/gated_acc', 'test/gated_ece', 'test/gated_ece', 'test/cov_0.01', 'test/cov_0.015', 'test/cov_0.02', 'test/cov_0.025', 'test/cov_0.03', 'test/cov_0.035', 'test/cov_0.04', 'test/cov_0.045', 'test/cov_0.05', 'test/gen_cov_0.01', 'test/gen_cov_0.015', 'test/gen_cov_0.02', 'test/gen_cov_0.025', 'test/gen_cov_0.03', 'test/gen_cov_0.035', 'test/gen_cov_0.04', 'test/gen_cov_0.045', 'test/gen_cov_0.05', 'test/C_0.01', 'test/C_0.015', 'test/C_0.02', 'test/C_0.025', 'test/C_0.03', 'test/C_0.035', 'test/C_0.04', 'test/C_0.045', 'test/C_0.05', 'test/gen_C_0.01', 'test/gen_C_0.015', 'test/gen_C_0.02', 'test/gen_C_0.025', 'test/gen_C_0.03', 'test/gen_C_0.035', 'test/gen_C_0.04', 'test/gen_C_0.045', 'test/gen_C_0.05']\n"
     ]
    }
   ],
   "source": [
    "our_df = pd.DataFrame()\n",
    "keys_we_want = ['test/acc_exit','test/total_cost', 'test/gated_acc', 'test/gated_ece', 'test/gated_ece']\n",
    "cov_keys, C_keys = get_all_cov_C(list_dicts_ours[0])\n",
    "keys_we_want = keys_we_want + cov_keys + C_keys\n",
    "keys_gated_accs = get_all_key_with(list_dicts_ours[-1], 'gated_acc_')\n",
    "keys_all_acc = get_all_key_with(list_dicts_ours[-1], 'test/acc')\n",
    "keys_we_want = keys_we_want\n",
    "print(keys_we_want)"
   ]
  },
  {
   "cell_type": "code",
   "execution_count": 107,
   "id": "1e450c7d",
   "metadata": {},
   "outputs": [],
   "source": [
    "requested_alpha = 0.05"
   ]
  },
  {
   "cell_type": "code",
   "execution_count": 108,
   "id": "572b5b2c",
   "metadata": {},
   "outputs": [],
   "source": [
    "our_df = pd.DataFrame()\n",
    "for metrics in list_dicts_ours:\n",
    "    \n",
    "    metrics_we_care_about = extract_metrics_we_want(metrics, keys_we_want)\n",
    "    metrics_we_care_about['average_IC'] = np.mean(metrics_we_care_about['test/total_cost'])\n",
    "    metrics_we_care_about['average_ACC'] = np.mean(metrics_we_care_about['test/gated_acc'])\n",
    "\n",
    "    for cov_key in cov_keys:\n",
    "        metrics_we_care_about['average'+cov_key] = np.mean(metrics_we_care_about[cov_key])\n",
    "        metrics_we_care_about['alpha'+cov_key] = float(cov_key.split('_')[-1]) \n",
    "    for C_key in C_keys:\n",
    "        metrics_we_care_about['average'+C_key] = np.mean(metrics_we_care_about[C_key])\n",
    "    \n",
    "    alpha_max = find_highest_cov(metrics_we_care_about, cov_keys, requested_alpha)\n",
    "    if alpha_max >0 :\n",
    "        C_key = 'test/C_'+str(alpha_max)\n",
    "        metrics_we_care_about['C'] = metrics_we_care_about[C_key]\n",
    "        metrics_we_care_about['emp_alpha'] = alpha_max\n",
    "    \n",
    "    df = pd.DataFrame(data=metrics_we_care_about, index=[0])\n",
    "    \n",
    "    our_df = pd.concat([df, our_df],axis=0, ignore_index=True)\n",
    "    \n"
   ]
  },
  {
   "cell_type": "code",
   "execution_count": 109,
   "id": "1308978f",
   "metadata": {},
   "outputs": [],
   "source": [
    "boosted_cov_keys, boosted_C_keys = get_all_cov_C(list_dict_boosted[0])\n",
    "\n",
    "boosted_df = pd.DataFrame()\n",
    "for metrics in list_dict_boosted:\n",
    "    metrics['average_IC'] = np.mean(metrics['EXPECTED_FLOPS'])\n",
    "    metrics['average_ACC'] = np.mean(metrics['ACC'])\n",
    "    for cov_key in boosted_cov_keys:\n",
    "        metrics['average'+cov_key] = np.mean(metrics[cov_key])/100.0\n",
    "        metrics['alpha'+cov_key] = float(cov_key.split('_')[-1])\n",
    "    for C_key in boosted_C_keys:\n",
    "        metrics['average'+C_key] = np.mean(metrics[C_key])\n",
    "    \n",
    "    alpha_max = find_highest_cov(metrics, boosted_cov_keys, requested_alpha)\n",
    "   \n",
    "    if alpha_max >0 :\n",
    "        C_key = 'C_'+str(alpha_max)\n",
    "        metrics['C'] = metrics[C_key]\n",
    "        metrics['emp_alpha'] = alpha_max\n",
    "    df = pd.DataFrame(data=metrics)\n",
    "    boosted_df = pd.concat([df, boosted_df],axis=0, ignore_index=True)"
   ]
  },
  {
   "cell_type": "code",
   "execution_count": 110,
   "id": "349a4374",
   "metadata": {},
   "outputs": [
    {
     "ename": "NameError",
     "evalue": "name 'list_dict_weighted' is not defined",
     "output_type": "error",
     "traceback": [
      "\u001b[0;31m---------------------------------------------------------------------------\u001b[0m",
      "\u001b[0;31mNameError\u001b[0m                                 Traceback (most recent call last)",
      "\u001b[0;32m/tmp/ipykernel_12250/1290768939.py\u001b[0m in \u001b[0;36m<module>\u001b[0;34m\u001b[0m\n\u001b[1;32m      2\u001b[0m \u001b[0;34m\u001b[0m\u001b[0m\n\u001b[1;32m      3\u001b[0m \u001b[0mweighted_df\u001b[0m \u001b[0;34m=\u001b[0m \u001b[0mpd\u001b[0m\u001b[0;34m.\u001b[0m\u001b[0mDataFrame\u001b[0m\u001b[0;34m(\u001b[0m\u001b[0;34m)\u001b[0m\u001b[0;34m\u001b[0m\u001b[0;34m\u001b[0m\u001b[0m\n\u001b[0;32m----> 4\u001b[0;31m \u001b[0;32mfor\u001b[0m \u001b[0mmetrics\u001b[0m \u001b[0;32min\u001b[0m \u001b[0mlist_dict_weighted\u001b[0m\u001b[0;34m:\u001b[0m\u001b[0;34m\u001b[0m\u001b[0;34m\u001b[0m\u001b[0m\n\u001b[0m\u001b[1;32m      5\u001b[0m     \u001b[0mmetrics\u001b[0m\u001b[0;34m[\u001b[0m\u001b[0;34m'average_IC'\u001b[0m\u001b[0;34m]\u001b[0m \u001b[0;34m=\u001b[0m \u001b[0mnp\u001b[0m\u001b[0;34m.\u001b[0m\u001b[0mmean\u001b[0m\u001b[0;34m(\u001b[0m\u001b[0mmetrics\u001b[0m\u001b[0;34m[\u001b[0m\u001b[0;34m'EXPECTED_FLOPS'\u001b[0m\u001b[0;34m]\u001b[0m\u001b[0;34m)\u001b[0m\u001b[0;34m\u001b[0m\u001b[0;34m\u001b[0m\u001b[0m\n\u001b[1;32m      6\u001b[0m     \u001b[0mmetrics\u001b[0m\u001b[0;34m[\u001b[0m\u001b[0;34m'average_ACC'\u001b[0m\u001b[0;34m]\u001b[0m \u001b[0;34m=\u001b[0m \u001b[0mnp\u001b[0m\u001b[0;34m.\u001b[0m\u001b[0mmean\u001b[0m\u001b[0;34m(\u001b[0m\u001b[0mmetrics\u001b[0m\u001b[0;34m[\u001b[0m\u001b[0;34m'ACC'\u001b[0m\u001b[0;34m]\u001b[0m\u001b[0;34m)\u001b[0m\u001b[0;34m\u001b[0m\u001b[0;34m\u001b[0m\u001b[0m\n",
      "\u001b[0;31mNameError\u001b[0m: name 'list_dict_weighted' is not defined"
     ]
    }
   ],
   "source": [
    "weighted_cov_keys, weighted_C_keys = get_all_cov_C(list_dict_boosted[0])\n",
    "\n",
    "weighted_df = pd.DataFrame()\n",
    "for metrics in list_dict_weighted:\n",
    "    metrics['average_IC'] = np.mean(metrics['EXPECTED_FLOPS'])\n",
    "    metrics['average_ACC'] = np.mean(metrics['ACC'])\n",
    "    for cov_key in boosted_cov_keys:\n",
    "        metrics['average'+cov_key] = np.mean(metrics[cov_key])/100.0\n",
    "        metrics['alpha'+cov_key] = float(cov_key.split('_')[-1])\n",
    "    for C_key in boosted_C_keys:\n",
    "        metrics['average'+C_key] = np.mean(metrics[C_key])\n",
    "    \n",
    "    alpha_max = find_highest_cov(metrics, boosted_cov_keys, requested_alpha)\n",
    "   \n",
    "    if alpha_max >0 :\n",
    "        C_key = 'C_'+str(alpha_max)\n",
    "        metrics['C'] = metrics[C_key]\n",
    "        metrics['emp_alpha'] = alpha_max\n",
    "    df = pd.DataFrame(data=metrics)\n",
    "    weighted_df = pd.concat([df, weighted_df],axis=0, ignore_index=True)"
   ]
  },
  {
   "cell_type": "code",
   "execution_count": 111,
   "id": "54f2d48c",
   "metadata": {},
   "outputs": [
    {
     "ename": "KeyError",
     "evalue": "'average_IC'",
     "output_type": "error",
     "traceback": [
      "\u001b[0;31m---------------------------------------------------------------------------\u001b[0m",
      "\u001b[0;31mKeyError\u001b[0m                                  Traceback (most recent call last)",
      "\u001b[0;32m~/miniconda3/lib/python3.9/site-packages/pandas/core/indexes/base.py\u001b[0m in \u001b[0;36mget_loc\u001b[0;34m(self, key, method, tolerance)\u001b[0m\n\u001b[1;32m   3360\u001b[0m             \u001b[0;32mtry\u001b[0m\u001b[0;34m:\u001b[0m\u001b[0;34m\u001b[0m\u001b[0;34m\u001b[0m\u001b[0m\n\u001b[0;32m-> 3361\u001b[0;31m                 \u001b[0;32mreturn\u001b[0m \u001b[0mself\u001b[0m\u001b[0;34m.\u001b[0m\u001b[0m_engine\u001b[0m\u001b[0;34m.\u001b[0m\u001b[0mget_loc\u001b[0m\u001b[0;34m(\u001b[0m\u001b[0mcasted_key\u001b[0m\u001b[0;34m)\u001b[0m\u001b[0;34m\u001b[0m\u001b[0;34m\u001b[0m\u001b[0m\n\u001b[0m\u001b[1;32m   3362\u001b[0m             \u001b[0;32mexcept\u001b[0m \u001b[0mKeyError\u001b[0m \u001b[0;32mas\u001b[0m \u001b[0merr\u001b[0m\u001b[0;34m:\u001b[0m\u001b[0;34m\u001b[0m\u001b[0;34m\u001b[0m\u001b[0m\n",
      "\u001b[0;32m~/miniconda3/lib/python3.9/site-packages/pandas/_libs/index.pyx\u001b[0m in \u001b[0;36mpandas._libs.index.IndexEngine.get_loc\u001b[0;34m()\u001b[0m\n",
      "\u001b[0;32m~/miniconda3/lib/python3.9/site-packages/pandas/_libs/index.pyx\u001b[0m in \u001b[0;36mpandas._libs.index.IndexEngine.get_loc\u001b[0;34m()\u001b[0m\n",
      "\u001b[0;32mpandas/_libs/hashtable_class_helper.pxi\u001b[0m in \u001b[0;36mpandas._libs.hashtable.PyObjectHashTable.get_item\u001b[0;34m()\u001b[0m\n",
      "\u001b[0;32mpandas/_libs/hashtable_class_helper.pxi\u001b[0m in \u001b[0;36mpandas._libs.hashtable.PyObjectHashTable.get_item\u001b[0;34m()\u001b[0m\n",
      "\u001b[0;31mKeyError\u001b[0m: 'average_IC'",
      "\nThe above exception was the direct cause of the following exception:\n",
      "\u001b[0;31mKeyError\u001b[0m                                  Traceback (most recent call last)",
      "\u001b[0;32m/tmp/ipykernel_12250/2686768816.py\u001b[0m in \u001b[0;36m<module>\u001b[0;34m\u001b[0m\n\u001b[1;32m      1\u001b[0m \u001b[0mfiltered_boosted_df\u001b[0m \u001b[0;34m=\u001b[0m \u001b[0mboosted_df\u001b[0m\u001b[0;34m[\u001b[0m\u001b[0mboosted_df\u001b[0m\u001b[0;34m[\u001b[0m\u001b[0;34m'average_IC'\u001b[0m\u001b[0;34m]\u001b[0m\u001b[0;34m.\u001b[0m\u001b[0mbetween\u001b[0m\u001b[0;34m(\u001b[0m\u001b[0mmin_ic\u001b[0m\u001b[0;34m,\u001b[0m \u001b[0mmax_ic\u001b[0m\u001b[0;34m)\u001b[0m\u001b[0;34m]\u001b[0m\u001b[0;34m\u001b[0m\u001b[0;34m\u001b[0m\u001b[0m\n\u001b[1;32m      2\u001b[0m \u001b[0mfiltered_our_df\u001b[0m \u001b[0;34m=\u001b[0m \u001b[0mour_df\u001b[0m\u001b[0;34m[\u001b[0m\u001b[0mour_df\u001b[0m\u001b[0;34m[\u001b[0m\u001b[0;34m'average_IC'\u001b[0m\u001b[0;34m]\u001b[0m\u001b[0;34m.\u001b[0m\u001b[0mbetween\u001b[0m\u001b[0;34m(\u001b[0m\u001b[0mmin_ic\u001b[0m\u001b[0;34m,\u001b[0m \u001b[0mmax_ic\u001b[0m\u001b[0;34m)\u001b[0m\u001b[0;34m]\u001b[0m\u001b[0;34m\u001b[0m\u001b[0;34m\u001b[0m\u001b[0m\n\u001b[0;32m----> 3\u001b[0;31m \u001b[0mfiltered_weighted_df\u001b[0m \u001b[0;34m=\u001b[0m \u001b[0mweighted_df\u001b[0m\u001b[0;34m[\u001b[0m\u001b[0mweighted_df\u001b[0m\u001b[0;34m[\u001b[0m\u001b[0;34m'average_IC'\u001b[0m\u001b[0;34m]\u001b[0m\u001b[0;34m.\u001b[0m\u001b[0mbetween\u001b[0m\u001b[0;34m(\u001b[0m\u001b[0mmin_ic\u001b[0m\u001b[0;34m,\u001b[0m \u001b[0mmax_ic\u001b[0m\u001b[0;34m)\u001b[0m\u001b[0;34m]\u001b[0m\u001b[0;34m\u001b[0m\u001b[0;34m\u001b[0m\u001b[0m\n\u001b[0m\u001b[1;32m      4\u001b[0m \u001b[0mprint\u001b[0m\u001b[0;34m(\u001b[0m\u001b[0mlen\u001b[0m\u001b[0;34m(\u001b[0m \u001b[0mour_df\u001b[0m\u001b[0;34m[\u001b[0m\u001b[0mour_df\u001b[0m\u001b[0;34m[\u001b[0m\u001b[0;34m'average_IC'\u001b[0m\u001b[0;34m]\u001b[0m\u001b[0;34m.\u001b[0m\u001b[0mbetween\u001b[0m\u001b[0;34m(\u001b[0m\u001b[0;36m0\u001b[0m\u001b[0;34m,\u001b[0m \u001b[0mmin_ic\u001b[0m\u001b[0;34m)\u001b[0m\u001b[0;34m]\u001b[0m\u001b[0;34m)\u001b[0m\u001b[0;34m/\u001b[0m\u001b[0;36m10\u001b[0m\u001b[0;34m)\u001b[0m\u001b[0;34m\u001b[0m\u001b[0;34m\u001b[0m\u001b[0m\n\u001b[1;32m      5\u001b[0m \u001b[0mprint\u001b[0m\u001b[0;34m(\u001b[0m\u001b[0mlen\u001b[0m\u001b[0;34m(\u001b[0m\u001b[0mfiltered_our_df\u001b[0m\u001b[0;34m)\u001b[0m\u001b[0;34m/\u001b[0m\u001b[0;36m10\u001b[0m\u001b[0;34m)\u001b[0m\u001b[0;34m\u001b[0m\u001b[0;34m\u001b[0m\u001b[0m\n",
      "\u001b[0;32m~/miniconda3/lib/python3.9/site-packages/pandas/core/frame.py\u001b[0m in \u001b[0;36m__getitem__\u001b[0;34m(self, key)\u001b[0m\n\u001b[1;32m   3456\u001b[0m             \u001b[0;32mif\u001b[0m \u001b[0mself\u001b[0m\u001b[0;34m.\u001b[0m\u001b[0mcolumns\u001b[0m\u001b[0;34m.\u001b[0m\u001b[0mnlevels\u001b[0m \u001b[0;34m>\u001b[0m \u001b[0;36m1\u001b[0m\u001b[0;34m:\u001b[0m\u001b[0;34m\u001b[0m\u001b[0;34m\u001b[0m\u001b[0m\n\u001b[1;32m   3457\u001b[0m                 \u001b[0;32mreturn\u001b[0m \u001b[0mself\u001b[0m\u001b[0;34m.\u001b[0m\u001b[0m_getitem_multilevel\u001b[0m\u001b[0;34m(\u001b[0m\u001b[0mkey\u001b[0m\u001b[0;34m)\u001b[0m\u001b[0;34m\u001b[0m\u001b[0;34m\u001b[0m\u001b[0m\n\u001b[0;32m-> 3458\u001b[0;31m             \u001b[0mindexer\u001b[0m \u001b[0;34m=\u001b[0m \u001b[0mself\u001b[0m\u001b[0;34m.\u001b[0m\u001b[0mcolumns\u001b[0m\u001b[0;34m.\u001b[0m\u001b[0mget_loc\u001b[0m\u001b[0;34m(\u001b[0m\u001b[0mkey\u001b[0m\u001b[0;34m)\u001b[0m\u001b[0;34m\u001b[0m\u001b[0;34m\u001b[0m\u001b[0m\n\u001b[0m\u001b[1;32m   3459\u001b[0m             \u001b[0;32mif\u001b[0m \u001b[0mis_integer\u001b[0m\u001b[0;34m(\u001b[0m\u001b[0mindexer\u001b[0m\u001b[0;34m)\u001b[0m\u001b[0;34m:\u001b[0m\u001b[0;34m\u001b[0m\u001b[0;34m\u001b[0m\u001b[0m\n\u001b[1;32m   3460\u001b[0m                 \u001b[0mindexer\u001b[0m \u001b[0;34m=\u001b[0m \u001b[0;34m[\u001b[0m\u001b[0mindexer\u001b[0m\u001b[0;34m]\u001b[0m\u001b[0;34m\u001b[0m\u001b[0;34m\u001b[0m\u001b[0m\n",
      "\u001b[0;32m~/miniconda3/lib/python3.9/site-packages/pandas/core/indexes/base.py\u001b[0m in \u001b[0;36mget_loc\u001b[0;34m(self, key, method, tolerance)\u001b[0m\n\u001b[1;32m   3361\u001b[0m                 \u001b[0;32mreturn\u001b[0m \u001b[0mself\u001b[0m\u001b[0;34m.\u001b[0m\u001b[0m_engine\u001b[0m\u001b[0;34m.\u001b[0m\u001b[0mget_loc\u001b[0m\u001b[0;34m(\u001b[0m\u001b[0mcasted_key\u001b[0m\u001b[0;34m)\u001b[0m\u001b[0;34m\u001b[0m\u001b[0;34m\u001b[0m\u001b[0m\n\u001b[1;32m   3362\u001b[0m             \u001b[0;32mexcept\u001b[0m \u001b[0mKeyError\u001b[0m \u001b[0;32mas\u001b[0m \u001b[0merr\u001b[0m\u001b[0;34m:\u001b[0m\u001b[0;34m\u001b[0m\u001b[0;34m\u001b[0m\u001b[0m\n\u001b[0;32m-> 3363\u001b[0;31m                 \u001b[0;32mraise\u001b[0m \u001b[0mKeyError\u001b[0m\u001b[0;34m(\u001b[0m\u001b[0mkey\u001b[0m\u001b[0;34m)\u001b[0m \u001b[0;32mfrom\u001b[0m \u001b[0merr\u001b[0m\u001b[0;34m\u001b[0m\u001b[0;34m\u001b[0m\u001b[0m\n\u001b[0m\u001b[1;32m   3364\u001b[0m \u001b[0;34m\u001b[0m\u001b[0m\n\u001b[1;32m   3365\u001b[0m         \u001b[0;32mif\u001b[0m \u001b[0mis_scalar\u001b[0m\u001b[0;34m(\u001b[0m\u001b[0mkey\u001b[0m\u001b[0;34m)\u001b[0m \u001b[0;32mand\u001b[0m \u001b[0misna\u001b[0m\u001b[0;34m(\u001b[0m\u001b[0mkey\u001b[0m\u001b[0;34m)\u001b[0m \u001b[0;32mand\u001b[0m \u001b[0;32mnot\u001b[0m \u001b[0mself\u001b[0m\u001b[0;34m.\u001b[0m\u001b[0mhasnans\u001b[0m\u001b[0;34m:\u001b[0m\u001b[0;34m\u001b[0m\u001b[0;34m\u001b[0m\u001b[0m\n",
      "\u001b[0;31mKeyError\u001b[0m: 'average_IC'"
     ]
    }
   ],
   "source": [
    "filtered_boosted_df = boosted_df[boosted_df['average_IC'].between(min_ic, max_ic)]\n",
    "filtered_our_df = our_df[our_df['average_IC'].between(min_ic, max_ic)]\n",
    "filtered_weighted_df = weighted_df[weighted_df['average_IC'].between(min_ic, max_ic)]\n",
    "print(len( our_df[our_df['average_IC'].between(0, min_ic)])/10)\n",
    "print(len(filtered_our_df)/10)\n",
    "print(len( our_df[our_df['average_IC'].between(max_ic, 100)])/10)\n",
    "print(len(our_df)/10)"
   ]
  },
  {
   "cell_type": "code",
   "execution_count": 112,
   "id": "1659abe2",
   "metadata": {},
   "outputs": [
    {
     "ename": "NameError",
     "evalue": "name 'filtered_weighted_df' is not defined",
     "output_type": "error",
     "traceback": [
      "\u001b[0;31m---------------------------------------------------------------------------\u001b[0m",
      "\u001b[0;31mNameError\u001b[0m                                 Traceback (most recent call last)",
      "\u001b[0;32m/tmp/ipykernel_12250/3304351369.py\u001b[0m in \u001b[0;36m<module>\u001b[0;34m\u001b[0m\n\u001b[1;32m      3\u001b[0m \u001b[0;34m\u001b[0m\u001b[0m\n\u001b[1;32m      4\u001b[0m \u001b[0msns\u001b[0m\u001b[0;34m.\u001b[0m\u001b[0mlineplot\u001b[0m\u001b[0;34m(\u001b[0m\u001b[0mdata\u001b[0m\u001b[0;34m=\u001b[0m\u001b[0mfiltered_boosted_df\u001b[0m\u001b[0;34m,\u001b[0m \u001b[0mx\u001b[0m\u001b[0;34m=\u001b[0m\u001b[0;34m\"average_IC\"\u001b[0m\u001b[0;34m,\u001b[0m \u001b[0my\u001b[0m\u001b[0;34m=\u001b[0m\u001b[0;34m\"ACC\"\u001b[0m\u001b[0;34m,\u001b[0m \u001b[0mlabel\u001b[0m\u001b[0;34m=\u001b[0m\u001b[0;34m\"BoostedNet\"\u001b[0m\u001b[0;34m)\u001b[0m\u001b[0;34m\u001b[0m\u001b[0;34m\u001b[0m\u001b[0m\n\u001b[0;32m----> 5\u001b[0;31m \u001b[0msns\u001b[0m\u001b[0;34m.\u001b[0m\u001b[0mlineplot\u001b[0m\u001b[0;34m(\u001b[0m\u001b[0mdata\u001b[0m\u001b[0;34m=\u001b[0m\u001b[0mfiltered_weighted_df\u001b[0m\u001b[0;34m,\u001b[0m \u001b[0mx\u001b[0m\u001b[0;34m=\u001b[0m\u001b[0;34m\"average_IC\"\u001b[0m\u001b[0;34m,\u001b[0m \u001b[0my\u001b[0m\u001b[0;34m=\u001b[0m\u001b[0;34m\"ACC\"\u001b[0m\u001b[0;34m,\u001b[0m \u001b[0mlabel\u001b[0m\u001b[0;34m=\u001b[0m\u001b[0;34m\"Weighted\"\u001b[0m\u001b[0;34m)\u001b[0m\u001b[0;34m\u001b[0m\u001b[0;34m\u001b[0m\u001b[0m\n\u001b[0m\u001b[1;32m      6\u001b[0m \u001b[0msns\u001b[0m\u001b[0;34m.\u001b[0m\u001b[0mlineplot\u001b[0m\u001b[0;34m(\u001b[0m\u001b[0mdata\u001b[0m\u001b[0;34m=\u001b[0m\u001b[0mfiltered_our_df\u001b[0m\u001b[0;34m,\u001b[0m \u001b[0mx\u001b[0m\u001b[0;34m=\u001b[0m\u001b[0;34m\"average_IC\"\u001b[0m\u001b[0;34m,\u001b[0m \u001b[0my\u001b[0m\u001b[0;34m=\u001b[0m\u001b[0;34m\"test/gated_acc\"\u001b[0m\u001b[0;34m,\u001b[0m \u001b[0mlabel\u001b[0m\u001b[0;34m=\u001b[0m\u001b[0;34m\"ConfEE\"\u001b[0m\u001b[0;34m)\u001b[0m\u001b[0;34m\u001b[0m\u001b[0;34m\u001b[0m\u001b[0m\n\u001b[1;32m      7\u001b[0m \u001b[0;31m#sns.scatterplot(data=filtered_boosted_df, x=\"average_IC\", y=\"ACC\", label=\"BoostedNet\")\u001b[0m\u001b[0;34m\u001b[0m\u001b[0;34m\u001b[0m\u001b[0;34m\u001b[0m\u001b[0m\n",
      "\u001b[0;31mNameError\u001b[0m: name 'filtered_weighted_df' is not defined"
     ]
    },
    {
     "data": {
      "image/png": "[encoded data removed]",
      "text/plain": [
       "<Figure size 432x288 with 1 Axes>"
      ]
     },
     "metadata": {},
     "output_type": "display_data"
    }
   ],
   "source": [
    "sns.set(font_scale=1.5) \n",
    "\n",
    "\n",
    "sns.lineplot(data=filtered_boosted_df, x=\"average_IC\", y=\"ACC\", label=\"BoostedNet\")\n",
    "sns.lineplot(data=filtered_weighted_df, x=\"average_IC\", y=\"ACC\", label=\"Weighted\")\n",
    "sns.lineplot(data=filtered_our_df, x=\"average_IC\", y=\"test/gated_acc\", label=\"ConfEE\")\n",
    "#sns.scatterplot(data=filtered_boosted_df, x=\"average_IC\", y=\"ACC\", label=\"BoostedNet\")\n",
    "#sns.scatterplot(data=filtered_weighted_df, x=\"average_IC\", y=\"ACC\", label=\"Weighted\")\n",
    "#sns.scatterplot(data=filtered_our_df, x=\"average_IC\", y=\"test/gated_acc\", label=\"ConfEE\")\n",
    "\n",
    "plt.xlabel(r'Mul-Add ($\\times 10^6$)')\n",
    "plt.ylabel('Accuracy')\n",
    "plt.tight_layout()\n",
    "plt.savefig('perf_cost_'+dataset+'.pdf')"
   ]
  },
  {
   "cell_type": "markdown",
   "id": "8c0ab622",
   "metadata": {},
   "source": []
  },
  {
   "cell_type": "code",
   "execution_count": 113,
   "id": "e21f6a2e",
   "metadata": {},
   "outputs": [
    {
     "ename": "NameError",
     "evalue": "name 'filtered_weighted_df' is not defined",
     "output_type": "error",
     "traceback": [
      "\u001b[0;31m---------------------------------------------------------------------------\u001b[0m",
      "\u001b[0;31mNameError\u001b[0m                                 Traceback (most recent call last)",
      "\u001b[0;32m/tmp/ipykernel_12250/2968082918.py\u001b[0m in \u001b[0;36m<module>\u001b[0;34m\u001b[0m\n\u001b[1;32m      1\u001b[0m \u001b[0msns\u001b[0m\u001b[0;34m.\u001b[0m\u001b[0mset\u001b[0m\u001b[0;34m(\u001b[0m\u001b[0mfont_scale\u001b[0m\u001b[0;34m=\u001b[0m\u001b[0;36m1.5\u001b[0m\u001b[0;34m)\u001b[0m  \u001b[0;31m# crazy big\u001b[0m\u001b[0;34m\u001b[0m\u001b[0;34m\u001b[0m\u001b[0m\n\u001b[0;32m----> 2\u001b[0;31m \u001b[0msns\u001b[0m\u001b[0;34m.\u001b[0m\u001b[0mlineplot\u001b[0m\u001b[0;34m(\u001b[0m\u001b[0mdata\u001b[0m\u001b[0;34m=\u001b[0m\u001b[0mfiltered_weighted_df\u001b[0m\u001b[0;34m,\u001b[0m \u001b[0mx\u001b[0m\u001b[0;34m=\u001b[0m\u001b[0;34m\"average_ACC\"\u001b[0m\u001b[0;34m,\u001b[0m \u001b[0my\u001b[0m\u001b[0;34m=\u001b[0m\u001b[0;34m\"ECE\"\u001b[0m\u001b[0;34m,\u001b[0m \u001b[0mlabel\u001b[0m\u001b[0;34m=\u001b[0m\u001b[0;34m\"BoostedNet\"\u001b[0m\u001b[0;34m)\u001b[0m\u001b[0;34m\u001b[0m\u001b[0;34m\u001b[0m\u001b[0m\n\u001b[0m\u001b[1;32m      3\u001b[0m \u001b[0msns\u001b[0m\u001b[0;34m.\u001b[0m\u001b[0mlineplot\u001b[0m\u001b[0;34m(\u001b[0m\u001b[0mdata\u001b[0m\u001b[0;34m=\u001b[0m\u001b[0mfiltered_boosted_df\u001b[0m\u001b[0;34m,\u001b[0m \u001b[0mx\u001b[0m\u001b[0;34m=\u001b[0m\u001b[0;34m\"average_ACC\"\u001b[0m\u001b[0;34m,\u001b[0m \u001b[0my\u001b[0m\u001b[0;34m=\u001b[0m\u001b[0;34m\"ECE\"\u001b[0m\u001b[0;34m,\u001b[0m \u001b[0mlabel\u001b[0m\u001b[0;34m=\u001b[0m\u001b[0;34m\"Weighted\"\u001b[0m\u001b[0;34m)\u001b[0m\u001b[0;34m\u001b[0m\u001b[0;34m\u001b[0m\u001b[0m\n\u001b[1;32m      4\u001b[0m \u001b[0;34m\u001b[0m\u001b[0m\n\u001b[1;32m      5\u001b[0m \u001b[0msns\u001b[0m\u001b[0;34m.\u001b[0m\u001b[0mlineplot\u001b[0m\u001b[0;34m(\u001b[0m\u001b[0mdata\u001b[0m\u001b[0;34m=\u001b[0m\u001b[0mfiltered_our_df\u001b[0m\u001b[0;34m,\u001b[0m \u001b[0mx\u001b[0m\u001b[0;34m=\u001b[0m\u001b[0;34m\"average_ACC\"\u001b[0m\u001b[0;34m,\u001b[0m \u001b[0my\u001b[0m\u001b[0;34m=\u001b[0m\u001b[0;34m\"test/gated_ece\"\u001b[0m\u001b[0;34m,\u001b[0m \u001b[0mlabel\u001b[0m\u001b[0;34m=\u001b[0m\u001b[0;34m\"ConfEE\"\u001b[0m\u001b[0;34m)\u001b[0m\u001b[0;34m\u001b[0m\u001b[0;34m\u001b[0m\u001b[0m\n",
      "\u001b[0;31mNameError\u001b[0m: name 'filtered_weighted_df' is not defined"
     ]
    }
   ],
   "source": [
    "sns.set(font_scale=1.5)  # crazy big\n",
    "sns.lineplot(data=filtered_weighted_df, x=\"average_ACC\", y=\"ECE\", label=\"BoostedNet\")\n",
    "sns.lineplot(data=filtered_boosted_df, x=\"average_ACC\", y=\"ECE\", label=\"Weighted\")\n",
    "\n",
    "sns.lineplot(data=filtered_our_df, x=\"average_ACC\", y=\"test/gated_ece\", label=\"ConfEE\")\n",
    "plt.xlabel('Accuracy')\n",
    "plt.ylabel('ECE')\n",
    "plt.tight_layout()\n",
    "plt.savefig('perf_ece_'+dataset+'.pdf')"
   ]
  },
  {
   "cell_type": "code",
   "execution_count": null,
   "id": "7cae990e",
   "metadata": {},
   "outputs": [],
   "source": []
  },
  {
   "cell_type": "code",
   "execution_count": 99,
   "id": "c9f434e2",
   "metadata": {},
   "outputs": [
    {
     "data": {
      "image/png": "[encoded data removed]",
      "text/plain": [
       "<Figure size 432x288 with 1 Axes>"
      ]
     },
     "metadata": {},
     "output_type": "display_data"
    }
   ],
   "source": [
    "sns.set(font_scale=1.5)  # crazy big\n",
    "\n",
    "sns.lineplot(data=filtered_boosted_df, x=\"average_IC\", y=\"C\", label=\"BoostedNet\")\n",
    "sns.lineplot(data=filtered_weighted_df, x=\"average_IC\", y=\"C\", label=\"Weighted\")\n",
    "sns.lineplot(data=filtered_our_df, x=\"average_IC\", y=\"C\", label=\"ConfEE\")\n",
    "\n",
    "plt.xlabel(r'Mul-Add ($\\times 10^6$)')\n",
    "plt.ylabel(r'$|\\mathcal{\\bar{C}}|$')\n",
    "plt.tight_layout()\n",
    "plt.savefig('inef_IC_'+dataset+'.pdf')\n"
   ]
  },
  {
   "cell_type": "markdown",
   "id": "e3dbd38a",
   "metadata": {},
   "source": [
    "## boosted_df_emp_vs_req = pd.DataFrame()\n",
    "for cov_key in boosted_cov_keys:\n",
    "    \n",
    "    alpha = float(cov_key.split('cov_')[-1])\n",
    "    df_cov = pd.DataFrame()\n",
    "    df_cov['emp_alpha'] = 1-boosted_df[cov_key]/100.0\n",
    "    df_cov['requested_alpha'] = alpha\n",
    "    boosted_df_emp_vs_req = pd.concat([df_cov, boosted_df_emp_vs_req],axis=0, ignore_index=True)\n",
    "\n",
    "weighted_df_emp_vs_req = pd.DataFrame()\n",
    "for cov_key in boosted_cov_keys:\n",
    "    \n",
    "    alpha = float(cov_key.split('cov_')[-1])\n",
    "    df_cov = pd.DataFrame()\n",
    "    df_cov['emp_alpha'] = 1-weighted_df[cov_key]/100.0\n",
    "    df_cov['requested_alpha'] = alpha\n",
    "    weighted_df_emp_vs_req = pd.concat([df_cov, weighted_df_emp_vs_req],axis=0, ignore_index=True)\n",
    "    \n",
    "our_df_emp_vs_req = pd.DataFrame()\n",
    "\n",
    "cov_keys_gated = []\n",
    "cov_keys_gen = []\n",
    "for c in cov_keys:\n",
    "    if 'gen' in c:\n",
    "        cov_keys_gen.append(c)\n",
    "    else:\n",
    "        cov_keys_gated.append(c)\n",
    "for cov_key in cov_keys_gated:\n",
    "    \n",
    "    alpha = float(cov_key.split('cov_')[-1])\n",
    "    df_cov = pd.DataFrame()\n",
    "    df_cov['emp_alpha'] = 1-our_df[cov_key]\n",
    "    df_cov['requested_alpha'] = alpha\n",
    "    our_df_emp_vs_req = pd.concat([df_cov, our_df_emp_vs_req],axis=0, ignore_index=True)\n",
    "    "
   ]
  },
  {
   "cell_type": "code",
   "execution_count": null,
   "id": "bfe0bbb9",
   "metadata": {},
   "outputs": [],
   "source": []
  },
  {
   "cell_type": "code",
   "execution_count": 100,
   "id": "b2245aac",
   "metadata": {},
   "outputs": [
    {
     "ename": "NameError",
     "evalue": "name 'boosted_df_emp_vs_req' is not defined",
     "output_type": "error",
     "traceback": [
      "\u001b[0;31m---------------------------------------------------------------------------\u001b[0m",
      "\u001b[0;31mNameError\u001b[0m                                 Traceback (most recent call last)",
      "\u001b[0;32m/tmp/ipykernel_12250/1572708176.py\u001b[0m in \u001b[0;36m<module>\u001b[0;34m\u001b[0m\n\u001b[1;32m      2\u001b[0m \u001b[0my\u001b[0m \u001b[0;34m=\u001b[0m \u001b[0;34m[\u001b[0m\u001b[0;36m0.01\u001b[0m\u001b[0;34m,\u001b[0m\u001b[0;36m0.05\u001b[0m\u001b[0;34m]\u001b[0m\u001b[0;34m\u001b[0m\u001b[0;34m\u001b[0m\u001b[0m\n\u001b[1;32m      3\u001b[0m \u001b[0mplt\u001b[0m\u001b[0;34m.\u001b[0m\u001b[0mplot\u001b[0m\u001b[0;34m(\u001b[0m\u001b[0mx\u001b[0m\u001b[0;34m,\u001b[0m\u001b[0my\u001b[0m\u001b[0;34m,\u001b[0m \u001b[0mcolor\u001b[0m\u001b[0;34m=\u001b[0m\u001b[0;34m'k'\u001b[0m\u001b[0;34m,\u001b[0m\u001b[0mlabel\u001b[0m\u001b[0;34m=\u001b[0m\u001b[0;34mr'$\\alpha = \\hat{\\alpha}$'\u001b[0m\u001b[0;34m)\u001b[0m\u001b[0;34m\u001b[0m\u001b[0;34m\u001b[0m\u001b[0m\n\u001b[0;32m----> 4\u001b[0;31m \u001b[0msns\u001b[0m\u001b[0;34m.\u001b[0m\u001b[0mlineplot\u001b[0m\u001b[0;34m(\u001b[0m\u001b[0mdata\u001b[0m\u001b[0;34m=\u001b[0m\u001b[0mboosted_df_emp_vs_req\u001b[0m\u001b[0;34m,\u001b[0m \u001b[0mx\u001b[0m\u001b[0;34m=\u001b[0m\u001b[0;34m\"requested_alpha\"\u001b[0m\u001b[0;34m,\u001b[0m \u001b[0my\u001b[0m\u001b[0;34m=\u001b[0m\u001b[0;34m\"emp_alpha\"\u001b[0m\u001b[0;34m,\u001b[0m \u001b[0mlabel\u001b[0m\u001b[0;34m=\u001b[0m\u001b[0;34m\"BoostedNet\"\u001b[0m\u001b[0;34m)\u001b[0m\u001b[0;34m\u001b[0m\u001b[0;34m\u001b[0m\u001b[0m\n\u001b[0m\u001b[1;32m      5\u001b[0m \u001b[0;31m#sns.lineplot(data=weighted_df_emp_vs_req, x=\"requested_alpha\", y=\"emp_alpha\", label=\"Weighted\")\u001b[0m\u001b[0;34m\u001b[0m\u001b[0;34m\u001b[0m\u001b[0;34m\u001b[0m\u001b[0m\n\u001b[1;32m      6\u001b[0m \u001b[0msns\u001b[0m\u001b[0;34m.\u001b[0m\u001b[0mlineplot\u001b[0m\u001b[0;34m(\u001b[0m\u001b[0mdata\u001b[0m\u001b[0;34m=\u001b[0m\u001b[0mour_df_emp_vs_req\u001b[0m\u001b[0;34m,\u001b[0m \u001b[0mx\u001b[0m\u001b[0;34m=\u001b[0m\u001b[0;34m\"requested_alpha\"\u001b[0m\u001b[0;34m,\u001b[0m \u001b[0my\u001b[0m\u001b[0;34m=\u001b[0m\u001b[0;34m\"emp_alpha\"\u001b[0m\u001b[0;34m,\u001b[0m \u001b[0mlabel\u001b[0m\u001b[0;34m=\u001b[0m\u001b[0;34m\"ConfEE\"\u001b[0m\u001b[0;34m)\u001b[0m\u001b[0;34m\u001b[0m\u001b[0;34m\u001b[0m\u001b[0m\n",
      "\u001b[0;31mNameError\u001b[0m: name 'boosted_df_emp_vs_req' is not defined"
     ]
    },
    {
     "data": {
      "image/png": "[encoded data removed]",
      "text/plain": [
       "<Figure size 432x288 with 1 Axes>"
      ]
     },
     "metadata": {},
     "output_type": "display_data"
    }
   ],
   "source": [
    "x = [0.01,0.05]\n",
    "y = [0.01,0.05]\n",
    "plt.plot(x,y, color='k',label=r'$\\alpha = \\hat{\\alpha}$')\n",
    "sns.lineplot(data=boosted_df_emp_vs_req, x=\"requested_alpha\", y=\"emp_alpha\", label=\"BoostedNet\")\n",
    "sns.lineplot(data=weighted_df_emp_vs_req, x=\"requested_alpha\", y=\"emp_alpha\", label=\"Weighted\")\n",
    "sns.lineplot(data=our_df_emp_vs_req, x=\"requested_alpha\", y=\"emp_alpha\", label=\"ConfEE\")\n",
    "\n",
    "plt.xlabel(r'Theoritical (requested) $\\alpha$')\n",
    "plt.ylabel(r' $\\hat{\\alpha}$')\n",
    "plt.tight_layout()\n",
    "plt.savefig('emp_vs_theoritical_'+dataset+'.pdf')\n"
   ]
  },
  {
   "cell_type": "code",
   "execution_count": 191,
   "id": "d2a34883",
   "metadata": {},
   "outputs": [
    {
     "name": "stdout",
     "output_type": "stream",
     "text": [
      "['test/acc6', 'test/acc0', 'test/acc1', 'test/acc2', 'test/acc3', 'test/acc4', 'test/acc5', 'test/acc_exit']\n",
      "['test/gated_acc_1', 'test/gated_acc_2', 'test/gated_acc_3', 'test/gated_acc_4', 'test/gated_acc_5']\n"
     ]
    }
   ],
   "source": [
    "print(keys_all_acc)\n",
    "print(keys_gated_accs)\n",
    "L = 6"
   ]
  },
  {
   "cell_type": "code",
   "execution_count": 192,
   "id": "0caa19b5",
   "metadata": {},
   "outputs": [
    {
     "name": "stdout",
     "output_type": "stream",
     "text": [
      "test/acc3\n",
      "test/acc4\n",
      "test/acc5\n",
      "test/acc1\n",
      "test/acc2\n",
      "test/acc3\n",
      "test/acc4\n",
      "test/acc5\n",
      "test/acc0\n",
      "test/acc1\n",
      "test/acc2\n",
      "test/acc3\n",
      "test/acc4\n",
      "test/acc5\n",
      "test/acc3\n",
      "test/acc4\n",
      "test/acc5\n",
      "test/acc2\n",
      "test/acc3\n",
      "test/acc4\n",
      "test/acc5\n",
      "test/acc4\n",
      "test/acc5\n",
      "test/acc0\n",
      "test/acc1\n",
      "test/acc2\n",
      "test/acc3\n",
      "test/acc4\n",
      "test/acc5\n",
      "test/acc3\n",
      "test/acc4\n",
      "test/acc5\n",
      "test/acc1\n",
      "test/acc2\n",
      "test/acc3\n",
      "test/acc4\n",
      "test/acc5\n"
     ]
    }
   ],
   "source": [
    "df_acc_ours = pd.DataFrame()\n",
    "for metrics in list_dicts_ours:\n",
    "    av_ic= np.mean(metrics['test/total_cost'])\n",
    "    if av_ic> min_ic and av_ic < max_ic:\n",
    "        for l in range(L):\n",
    "            all_acc = 'test/acc'+str(l)\n",
    "            gated_acc = 'test/gated_acc_'+str(l)\n",
    "\n",
    "            if gated_acc in metrics:\n",
    "                print(all_acc)\n",
    "                df_acc = pd.DataFrame()\n",
    "                df_acc['gated'] = metrics[gated_acc]\n",
    "                df_acc['all'] = metrics[all_acc]\n",
    "                df_acc['gate'] = l\n",
    "                df_acc_ours = pd.concat([df_acc_ours, df_acc],axis=0, ignore_index=True)\n",
    "            \n"
   ]
  },
  {
   "cell_type": "code",
   "execution_count": 139,
   "id": "87e3ae17",
   "metadata": {},
   "outputs": [],
   "source": [
    "df_acc_boosted = pd.DataFrame()\n",
    "for metrics in list_dict_boosted:\n",
    "    av_ic= np.mean(metrics['EXPECTED_FLOPS'])\n",
    "    if av_ic> min_ic and av_ic < max_ic:\n",
    "        for l in range(L):\n",
    "            all_acc = 'ALL_ACC_PER_GATE_'+str(l)\n",
    "            gated_acc = 'GATED_ACC_PER_GATE_'+str(l)\n",
    "\n",
    "            if gated_acc in metrics:\n",
    "                df_acc = pd.DataFrame()\n",
    "                df_acc['gated'] = metrics[gated_acc]\n",
    "                df_acc['all'] = metrics[all_acc]\n",
    "                df_acc['gate'] = l\n",
    "                df_acc_boosted = pd.concat([df_acc_boosted, df_acc],axis=0, ignore_index=True)\n",
    "            \n"
   ]
  },
  {
   "cell_type": "code",
   "execution_count": 140,
   "id": "3e3cdd83",
   "metadata": {},
   "outputs": [
    {
     "data": {
      "text/plain": [
       "<AxesSubplot:xlabel='gate', ylabel='all'>"
      ]
     },
     "execution_count": 140,
     "metadata": {},
     "output_type": "execute_result"
    },
    {
     "data": {
      "image/png": "[encoded data removed]",
      "text/plain": [
       "<Figure size 432x288 with 1 Axes>"
      ]
     },
     "metadata": {},
     "output_type": "display_data"
    }
   ],
   "source": [
    "sns.lineplot(data=df_acc_boosted, x=\"gate\", y=\"all\", label=\"Boosted\")\n",
    "sns.lineplot(data=df_acc_boosted, x=\"gate\", y=\"gated\", label=\"Boosted_gated\")\n",
    "sns.lineplot(data=df_acc_ours, x=\"gate\", y=\"all\", label=\"ConfEE\")\n",
    "sns.lineplot(data=df_acc_ours, x=\"gate\", y=\"gated\", label=\"ConfEE_gated\")"
   ]
  },
  {
   "cell_type": "code",
   "execution_count": null,
   "id": "6cbf4b04",
   "metadata": {},
   "outputs": [],
   "source": []
  }
 ],
 "metadata": {
  "kernelspec": {
   "display_name": "Python 3 (ipykernel)",
   "language": "python",
   "name": "python3"
  },
  "language_info": {
   "codemirror_mode": {
    "name": "ipython",
    "version": 3
   },
   "file_extension": ".py",
   "mimetype": "text/x-python",
   "name": "python",
   "nbconvert_exporter": "python",
   "pygments_lexer": "ipython3",
   "version": "3.9.5"
  }
 },
 "nbformat": 4,
 "nbformat_minor": 5
}
