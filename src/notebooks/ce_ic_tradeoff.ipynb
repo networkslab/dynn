{
 "cells": [
  {
   "cell_type": "code",
   "execution_count": 1,
   "id": "3158e6f4",
   "metadata": {},
   "outputs": [],
   "source": [
    "import matplotlib.pyplot as plt\n",
    "import numpy as np\n",
    "import pandas as pd\n",
    "import seaborn as sns\n",
    "import os\n",
    "import matplotlib\n",
    "import matplotlib.lines as mlines"
   ]
  },
  {
   "cell_type": "code",
   "execution_count": 2,
   "id": "a5f5e99b",
   "metadata": {},
   "outputs": [],
   "source": [
    "gated_acc_entropy = 85.4\n",
    "gated_acc_margins = 85.6\n",
    "gated_acc_pmax = 85.6\n",
    "gated_acc_powentropy = 85.6\n",
    "\n",
    "cost_entropy = 0.51\n",
    "cost_margins = 0.505\n",
    "cost_pmax = 0.503\n",
    "cost_powentropy = 0.5045\n",
    "\n",
    "baseline_results_list_dict = [{'label':r' $h$', 'cost': cost_entropy, 'gated_acc':gated_acc_entropy, 'marker': 's', 'color': 'green', 'marker_label': r' $h$'},\n",
    "                               {'label':r' $p_{margins}$', 'cost': cost_margins, 'gated_acc':gated_acc_margins, 'marker': 's', 'color': 'green', 'marker_label': r' $p_{margins}$'},\n",
    "                               {'label':r' $p_{max}$', 'cost': cost_pmax, 'gated_acc':gated_acc_pmax, 'marker': 's', 'color': 'green', 'marker_label': r' $p_{max}$'},\n",
    "                               {'label':r' $h_{pow}$', 'cost': cost_powentropy, 'gated_acc':gated_acc_powentropy, 'marker': 's', 'color': 'green', 'marker_label': r' $h_{pow}$'}]\n",
    "                            #   {'label':r'init', 'cost': 1, 'gated_acc':90.47, 'marker': '+', 'color': 'yellow', 'marker_label': 'init'}]\n"
   ]
  },
  {
   "cell_type": "markdown",
   "id": "27d5f1bc",
   "metadata": {},
   "source": []
  },
  {
   "cell_type": "code",
   "execution_count": 39,
   "id": "5db5a4d3",
   "metadata": {},
   "outputs": [],
   "source": [
    "# Boosted gradient https://arxiv.org/abs/2211.16726\n",
    "\n",
    "boosted_list_dict = []\n",
    "boosted_list_dict.append({'label':r'boosted$', 'cost': 0.148, 'gated_acc':45.18, 'marker': 'D', 'color':'c', 'marker_label': 'boosted'})\n",
    "boosted_list_dict.append({'label':r'boosted$', 'cost': 0.1755, 'gated_acc':49.89, 'marker': 'D', 'color':'c', 'marker_label': 'boosted'})\n",
    "boosted_list_dict.append({'label':r'boosted$', 'cost': 0.226, 'gated_acc':57.95, 'marker': 'D', 'color':'c', 'marker_label': 'boosted'})\n",
    "boosted_list_dict.append({'label':r'boosted$', 'cost': 0.311, 'gated_acc':69.52, 'marker': 'D', 'color':'c', 'marker_label': 'boosted'})\n",
    "boosted_list_dict.append({'label':r'boosted$', 'cost': 0.424, 'gated_acc':80.14, 'marker': 'D', 'color':'c', 'marker_label': 'boosted'})\n",
    "boosted_list_dict.append({'label':r'boosted$', 'cost': 0.5129, 'gated_acc':85.32, 'marker': 'D', 'color':'c', 'marker_label': 'boosted'})\n",
    "boosted_list_dict.append({'label':r'boosted$', 'cost': 0.6199, 'gated_acc':89.860, 'marker': 'D', 'color':'c', 'marker_label': 'boosted'})\n",
    "boosted_list_dict.append({'label':r'boosted$', 'cost': 0.7026, 'gated_acc':92.45, 'marker': 'D', 'color':'c', 'marker_label': 'boosted'})\n",
    "boosted_list_dict.append({'label':r'boosted$', 'cost': 0.7635, 'gated_acc':93.68, 'marker': 'D', 'color':'c', 'marker_label': 'boosted'})\n",
    "boosted_list_dict.append({'label':r'boosted$', 'cost': 0.8120, 'gated_acc':94.38, 'marker': 'D', 'color':'c', 'marker_label': 'boosted'})\n",
    "boosted_list_dict.append({'label':r'boosted$', 'cost': 0.8385, 'gated_acc':94.64, 'marker': 'D', 'color':'c', 'marker_label': 'boosted'})"
   ]
  },
  {
   "cell_type": "code",
   "execution_count": 40,
   "id": "aab788ab",
   "metadata": {},
   "outputs": [],
   "source": [
    "# code_list_dict = []\n",
    "# code_list_dict.append({'label':r'code $\\lambda=5$', 'cost': 0.32, 'gated_acc':51.408, 'marker': 'D', 'color':'b', 'marker_label': 'code'})\n",
    "# code_list_dict.append({'label':r'code $\\lambda=3$', 'cost': 0.57, 'gated_acc':80.30, 'marker': 'D', 'color':'b', 'marker_label': 'code'})\n",
    "# code_list_dict.append({'label':r'code $\\lambda=2$', 'cost': 0.69, 'gated_acc':90.01, 'marker': 'D', 'color':'b', 'marker_label': 'code'})\n",
    "# code_list_dict.append({'label':r'code $\\lambda=1$', 'cost': 0.71, 'gated_acc':91.63, 'marker': 'D', 'color':'b', 'marker_label': 'code'})\n",
    "# code_list_dict.append({'label':r'code $\\lambda=0.5$', 'cost': 0.71, 'gated_acc':91.83, 'marker': 'D', 'color':'b', 'marker_label': 'code'})\n",
    "# code_list_dict.append({'label':r'code $\\lambda=0.1$', 'cost': 0.71, 'gated_acc':91.60, 'marker': 'D', 'color':'b', 'marker_label': 'code'})\n",
    "# code_list_dict.append({'label':r'code $\\lambda=1$', 'cost': 0.71, 'gated_acc':91.71, 'marker': 'D', 'color':'b', 'marker_label': 'code'})\n",
    "\n",
    "\n",
    "# default_list_dict = []\n",
    "# default_list_dict.append({'label':r'default $\\lambda=5$', 'cost': 0.14, 'gated_acc':37.77, 'marker': 'D', 'color':'r', 'marker_label': 'def'})\n",
    "# default_list_dict.append({'label':r'default $\\lambda=3$', 'cost': 0.14, 'gated_acc':37.25, 'marker': 'D', 'color':'r', 'marker_label': 'def'})\n",
    "# default_list_dict.append({'label':r'default $\\lambda=2$', 'cost': 0.57, 'gated_acc':81.21, 'marker': 'D', 'color':'r', 'marker_label': 'def'})\n",
    "# default_list_dict.append({'label':r'default $\\lambda=1$', 'cost': 0.70, 'gated_acc':90.25, 'marker': 'D', 'color':'r', 'marker_label': 'def'})\n",
    "# default_list_dict.append({'label':r'default $\\lambda=0.5$', 'cost': 0.72, 'gated_acc':92.31, 'marker': 'D', 'color':'r', 'marker_label': 'def'})\n",
    "# default_list_dict.append({'label':r'default $\\lambda=0.1$', 'cost': 0.72, 'gated_acc':91.87, 'marker': 'D', 'color':'r', 'marker_label': 'def'})\n",
    "# default_list_dict.append({'label':r'default $\\lambda=1$', 'cost': 0.86, 'gated_acc':94.8, 'marker': 'D', 'color':'r', 'marker_label': 'def'})\n",
    "\n",
    "def_list_dict = []\n",
    "\n",
    "def_list_dict.append({'label':r'ours $\\lambda=1$', 'cost': 0.86, 'gated_acc':94.71, 'marker': 'D', 'color':'k', 'marker_label': 'def'})\n",
    "def_list_dict.append({'label':r'ours $\\lambda=1$', 'cost': 0.74, 'gated_acc':94.00, 'marker': 'D', 'color':'k', 'marker_label': 'def'})\n",
    "def_list_dict.append({'label':r'ours $\\lambda=1$', 'cost': 0.67, 'gated_acc':91.95, 'marker': 'D', 'color':'k', 'marker_label': 'def'})\n",
    "def_list_dict.append({'label':r'ours $\\lambda=1$', 'cost': 0.64, 'gated_acc':91.28, 'marker': 'D', 'color':'k', 'marker_label': 'def'})\n",
    "def_list_dict.append({'label':r'ours $\\lambda=1$', 'cost': 0.54, 'gated_acc':82.67, 'marker': 'D', 'color':'k', 'marker_label': 'def'})\n",
    "\n",
    "uncer_list_dict = []\n",
    "\n",
    "\n",
    "def_list_dict.append({'label':r'ours $\\lambda=1$', 'cost': 0.80, 'gated_acc':91.69, 'marker': 'D', 'color':'r', 'marker_label': 'unc'})\n",
    "def_list_dict.append({'label':r'ours $\\lambda=1$', 'cost': 0.74, 'gated_acc':94.04, 'marker': 'D', 'color':'r', 'marker_label': 'unc'})\n",
    "def_list_dict.append({'label':r'ours $\\lambda=1$', 'cost': 0.70, 'gated_acc':93.42, 'marker': 'D', 'color':'r', 'marker_label': 'unc'})\n",
    "def_list_dict.append({'label':r'ours $\\lambda=1$', 'cost': 0.66, 'gated_acc':92.25, 'marker': 'D', 'color':'r', 'marker_label': 'unc'})\n",
    "def_list_dict.append({'label':r'ours $\\lambda=1$', 'cost': 0.61, 'gated_acc':88.69, 'marker': 'D', 'color':'r', 'marker_label': 'unc'})\n",
    "def_list_dict.append({'label':r'ours $\\lambda=1$', 'cost': 0.50, 'gated_acc':75.34, 'marker': 'D', 'color':'r', 'marker_label': 'unc'})\n",
    "def_list_dict.append({'label':r'ours $\\lambda=1$', 'cost': 0.39, 'gated_acc':59.24, 'marker': 'D', 'color':'r', 'marker_label': 'unc'})\n",
    "\n",
    "best_list_dict = []\n",
    "# best_list_dict.append({'label':r'ours $\\lambda=1$', 'cost': 0.78, 'gated_acc':92.59, 'marker': 'D', 'color':'g', 'marker_label': 'unc'})\n",
    "# best_list_dict.append({'label':r'ours $\\lambda=1$', 'cost': 0.74, 'gated_acc':93.94, 'marker': 'D', 'color':'g', 'marker_label': 'unc'})\n",
    "best_list_dict.append({'label':r'ours $\\lambda=1$', 'cost': 0.71, 'gated_acc':93.12, 'marker': 'D', 'color':'g', 'marker_label': 'unc'})\n",
    "best_list_dict.append({'label':r'ours $\\lambda=1$', 'cost': 0.66, 'gated_acc':91.98, 'marker': 'D', 'color':'g', 'marker_label': 'unc'})\n",
    "best_list_dict.append({'label':r'ours $\\lambda=1$', 'cost': 0.60, 'gated_acc':87.52, 'marker': 'D', 'color':'g', 'marker_label': 'unc'})\n",
    "best_list_dict.append({'label':r'ours $\\lambda=1$', 'cost': 0.48, 'gated_acc':71.09, 'marker': 'D', 'color':'g', 'marker_label': 'unc'})\n",
    "best_list_dict.append({'label':r'ours $\\lambda=1$', 'cost': 0.38, 'gated_acc':58.33, 'marker': 'D', 'color':'g', 'marker_label': 'unc'})\n",
    "\n",
    "single_point = []\n",
    "single_point.append({'label':r'ours trial', 'cost': 0.613, 'gated_acc':89.9, 'marker': 'D', 'color':'b', 'marker_label': 'unc'})\n",
    "single_point.append({'label':r'ours trial', 'cost': 0.611, 'gated_acc':90.7, 'marker': 'D', 'color':'b', 'marker_label': 'unc'})\n",
    "\n"
   ]
  },
  {
   "cell_type": "code",
   "execution_count": 41,
   "id": "f8bc84f9",
   "metadata": {},
   "outputs": [
    {
     "data": {
      "image/png": "[encoded data removed]",
      "text/plain": [
       "<Figure size 640x480 with 1 Axes>"
      ]
     },
     "metadata": {},
     "output_type": "display_data"
    }
   ],
   "source": [
    "font = {'family' : 'serif',\n",
    "        'size'   : 10}\n",
    "\n",
    "combined_dicts = boosted_list_dict  +single_point\n",
    "matplotlib.rc('font', **font)\n",
    "fig = plt.figure()\n",
    "ax = plt.subplot(111)\n",
    "legend_patches_dict = {}\n",
    "for dict_of_result in combined_dicts:\n",
    "    label = dict_of_result['label']\n",
    "    marker_label = dict_of_result['marker_label']\n",
    "    cost = dict_of_result['cost']\n",
    "    marker = dict_of_result['marker']\n",
    "    gated_acc = dict_of_result['gated_acc']\n",
    "    if not marker_label in legend_patches_dict.keys():\n",
    "        legend_patches_dict[marker_label] = {'color': dict_of_result['color'], 'marker': marker}\n",
    "    ax.plot(-cost, gated_acc, marker, color=dict_of_result['color'])\n",
    "# fig.xlabel('- inference cost')\n",
    "patches = []\n",
    "for patch in legend_patches_dict.keys():\n",
    "    patches.append(mlines.Line2D([], [], color=legend_patches_dict[patch]['color'], marker = legend_patches_dict[patch]['marker'], label=patch))\n",
    "ax.legend(handles=patches)\n",
    "ax.set_xlabel('-inference cost')\n",
    "ax.set_ylabel('test accuracy (with early exit)')\n",
    "# ax.legend(bbox_to_anchor=(1.1, 1.05, 0.5, 0.2))\n",
    "ax.set_in_layout(in_layout=True)\n",
    "\n",
    "plt.savefig('ic_accuracy_scatter.pdf')"
   ]
  },
  {
   "cell_type": "code",
   "execution_count": 6,
   "id": "4cafd5b8",
   "metadata": {},
   "outputs": [],
   "source": [
    "plt.close()"
   ]
  },
  {
   "cell_type": "code",
   "execution_count": null,
   "id": "329ff0c1",
   "metadata": {},
   "outputs": [],
   "source": []
  }
 ],
 "metadata": {
  "kernelspec": {
   "display_name": "Python 3 (ipykernel)",
   "language": "python",
   "name": "python3"
  },
  "language_info": {
   "codemirror_mode": {
    "name": "ipython",
    "version": 3
   },
   "file_extension": ".py",
   "mimetype": "text/x-python",
   "name": "python",
   "nbconvert_exporter": "python",
   "pygments_lexer": "ipython3",
   "version": "3.9.5"
  }
 },
 "nbformat": 4,
 "nbformat_minor": 5
}
