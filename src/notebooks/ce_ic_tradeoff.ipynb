{
 "cells": [
  {
   "cell_type": "code",
   "execution_count": 1,
   "id": "3158e6f4",
   "metadata": {},
   "outputs": [],
   "source": [
    "import matplotlib.pyplot as plt\n",
    "import numpy as np\n",
    "import pandas as pd\n",
    "import seaborn as sns\n",
    "import os\n",
    "import matplotlib\n",
    "import matplotlib.lines as mlines"
   ]
  },
  {
   "cell_type": "code",
   "execution_count": 2,
   "id": "a5f5e99b",
   "metadata": {},
   "outputs": [],
   "source": [
    "# flo: i dont think those are still up to date\n",
    "gated_acc_entropy = 85.4\n",
    "# gated_acc_margins = 85.6\n",
    "# gated_acc_pmax = 85.6\n",
    "# gated_acc_powentropy = 85.6\n",
    "\n",
    "# cost_entropy = 0.51\n",
    "# cost_margins = 0.505\n",
    "# cost_pmax = 0.503\n",
    "# cost_powentropy = 0.5045\n",
    "\n",
    "# baseline_results_list_dict = [{'label':r' $h$', 'cost': cost_entropy, 'gated_acc':gated_acc_entropy, 'marker': 's', 'color': 'green', 'marker_label': r' $h$'},\n",
    "#                                {'label':r' $p_{margins}$', 'cost': cost_margins, 'gated_acc':gated_acc_margins, 'marker': 's', 'color': 'green', 'marker_label': r' $p_{margins}$'},\n",
    "#                                {'label':r' $p_{max}$', 'cost': cost_pmax, 'gated_acc':gated_acc_pmax, 'marker': 's', 'color': 'green', 'marker_label': r' $p_{max}$'},\n",
    "#                                {'label':r' $h_{pow}$', 'cost': cost_powentropy, 'gated_acc':gated_acc_powentropy, 'marker': 's', 'color': 'green', 'marker_label': r' $h_{pow}$'}]\n",
    "#                             #   {'label':r'init', 'cost': 1, 'gated_acc':90.47, 'marker': '+', 'color': 'yellow', 'marker_label': 'init'}]\n"
   ]
  },
  {
   "cell_type": "markdown",
   "id": "27d5f1bc",
   "metadata": {},
   "source": []
  },
  {
   "cell_type": "code",
   "execution_count": 3,
   "id": "5db5a4d3",
   "metadata": {},
   "outputs": [],
   "source": [
    "# Boosted gradient https://arxiv.org/abs/2211.16726\n",
    "\n",
    "# boosted_list_dict = []\n",
    "# boosted_list_dict.append({'label':r'boosted$', 'cost': 0.148, 'gated_acc':45.18, 'marker': 'D', 'color':'c', 'marker_label': 'boosted'})\n",
    "# boosted_list_dict.append({'label':r'boosted$', 'cost': 0.1755, 'gated_acc':49.89, 'marker': 'D', 'color':'c', 'marker_label': 'boosted'})\n",
    "# boosted_list_dict.append({'label':r'boosted$', 'cost': 0.226, 'gated_acc':57.95, 'marker': 'D', 'color':'c', 'marker_label': 'boosted'})\n",
    "# boosted_list_dict.append({'label':r'boosted$', 'cost': 0.311, 'gated_acc':69.52, 'marker': 'D', 'color':'c', 'marker_label': 'boosted'})\n",
    "# boosted_list_dict.append({'label':r'boosted$', 'cost': 0.424, 'gated_acc':80.14, 'marker': 'D', 'color':'c', 'marker_label': 'boosted'})\n",
    "# boosted_list_dict.append({'label':r'boosted$', 'cost': 0.5129, 'gated_acc':85.32, 'marker': 'D', 'color':'c', 'marker_label': 'boosted'})\n",
    "# boosted_list_dict.append({'label':r'boosted$', 'cost': 0.6199, 'gated_acc':89.860, 'marker': 'D', 'color':'c', 'marker_label': 'boosted'})\n",
    "# boosted_list_dict.append({'label':r'boosted$', 'cost': 0.7026, 'gated_acc':92.45, 'marker': 'D', 'color':'c', 'marker_label': 'boosted'})\n",
    "# boosted_list_dict.append({'label':r'boosted$', 'cost': 0.7635, 'gated_acc':93.68, 'marker': 'D', 'color':'c', 'marker_label': 'boosted'})\n",
    "# boosted_list_dict.append({'label':r'boosted$', 'cost': 0.8120, 'gated_acc':94.38, 'marker': 'D', 'color':'c', 'marker_label': 'boosted'})\n",
    "# boosted_list_dict.append({'label':r'boosted$', 'cost': 0.8385, 'gated_acc':94.64, 'marker': 'D', 'color':'c', 'marker_label': 'boosted'})"
   ]
  },
  {
   "cell_type": "code",
   "execution_count": 4,
   "id": "aab788ab",
   "metadata": {},
   "outputs": [],
   "source": [
    "# code_list_dict = []\n",
    "# code_list_dict.append({'label':r'code $\\lambda=5$', 'cost': 0.32, 'gated_acc':51.408, 'marker': 'D', 'color':'b', 'marker_label': 'code'})\n",
    "# code_list_dict.append({'label':r'code $\\lambda=3$', 'cost': 0.57, 'gated_acc':80.30, 'marker': 'D', 'color':'b', 'marker_label': 'code'})\n",
    "# code_list_dict.append({'label':r'code $\\lambda=2$', 'cost': 0.69, 'gated_acc':90.01, 'marker': 'D', 'color':'b', 'marker_label': 'code'})\n",
    "# code_list_dict.append({'label':r'code $\\lambda=1$', 'cost': 0.71, 'gated_acc':91.63, 'marker': 'D', 'color':'b', 'marker_label': 'code'})\n",
    "# code_list_dict.append({'label':r'code $\\lambda=0.5$', 'cost': 0.71, 'gated_acc':91.83, 'marker': 'D', 'color':'b', 'marker_label': 'code'})\n",
    "# code_list_dict.append({'label':r'code $\\lambda=0.1$', 'cost': 0.71, 'gated_acc':91.60, 'marker': 'D', 'color':'b', 'marker_label': 'code'})\n",
    "# code_list_dict.append({'label':r'code $\\lambda=1$', 'cost': 0.71, 'gated_acc':91.71, 'marker': 'D', 'color':'b', 'marker_label': 'code'})\n",
    "\n",
    "\n",
    "# default_list_dict = []\n",
    "# default_list_dict.append({'label':r'default $\\lambda=5$', 'cost': 0.14, 'gated_acc':37.77, 'marker': 'D', 'color':'r', 'marker_label': 'def'})\n",
    "# default_list_dict.append({'label':r'default $\\lambda=3$', 'cost': 0.14, 'gated_acc':37.25, 'marker': 'D', 'color':'r', 'marker_label': 'def'})\n",
    "# default_list_dict.append({'label':r'default $\\lambda=2$', 'cost': 0.57, 'gated_acc':81.21, 'marker': 'D', 'color':'r', 'marker_label': 'def'})\n",
    "# default_list_dict.append({'label':r'default $\\lambda=1$', 'cost': 0.70, 'gated_acc':90.25, 'marker': 'D', 'color':'r', 'marker_label': 'def'})\n",
    "# default_list_dict.append({'label':r'default $\\lambda=0.5$', 'cost': 0.72, 'gated_acc':92.31, 'marker': 'D', 'color':'r', 'marker_label': 'def'})\n",
    "# default_list_dict.append({'label':r'default $\\lambda=0.1$', 'cost': 0.72, 'gated_acc':91.87, 'marker': 'D', 'color':'r', 'marker_label': 'def'})\n",
    "# default_list_dict.append({'label':r'default $\\lambda=1$', 'cost': 0.86, 'gated_acc':94.8, 'marker': 'D', 'color':'r', 'marker_label': 'def'})\n",
    "\n",
    "# def_list_dict = []\n",
    "\n",
    "# def_list_dict.append({'label':r'ours $\\lambda=1$', 'cost': 0.86, 'gated_acc':94.71, 'marker': 'D', 'color':'k', 'marker_label': 'def'})\n",
    "# def_list_dict.append({'label':r'ours $\\lambda=1$', 'cost': 0.74, 'gated_acc':94.00, 'marker': 'D', 'color':'k', 'marker_label': 'def'})\n",
    "# def_list_dict.append({'label':r'ours $\\lambda=1$', 'cost': 0.67, 'gated_acc':91.95, 'marker': 'D', 'color':'k', 'marker_label': 'def'})\n",
    "# def_list_dict.append({'label':r'ours $\\lambda=1$', 'cost': 0.64, 'gated_acc':91.28, 'marker': 'D', 'color':'k', 'marker_label': 'def'})\n",
    "# def_list_dict.append({'label':r'ours $\\lambda=1$', 'cost': 0.54, 'gated_acc':82.67, 'marker': 'D', 'color':'k', 'marker_label': 'def'})\n",
    "\n",
    "# uncer_list_dict = []\n",
    "\n",
    "\n",
    "# def_list_dict.append({'label':r'ours $\\lambda=1$', 'cost': 0.80, 'gated_acc':91.69, 'marker': 'D', 'color':'r', 'marker_label': 'unc'})\n",
    "# def_list_dict.append({'label':r'ours $\\lambda=1$', 'cost': 0.74, 'gated_acc':94.04, 'marker': 'D', 'color':'r', 'marker_label': 'unc'})\n",
    "# def_list_dict.append({'label':r'ours $\\lambda=1$', 'cost': 0.70, 'gated_acc':93.42, 'marker': 'D', 'color':'r', 'marker_label': 'unc'})\n",
    "# def_list_dict.append({'label':r'ours $\\lambda=1$', 'cost': 0.66, 'gated_acc':92.25, 'marker': 'D', 'color':'r', 'marker_label': 'unc'})\n",
    "# def_list_dict.append({'label':r'ours $\\lambda=1$', 'cost': 0.61, 'gated_acc':88.69, 'marker': 'D', 'color':'r', 'marker_label': 'unc'})\n",
    "# def_list_dict.append({'label':r'ours $\\lambda=1$', 'cost': 0.50, 'gated_acc':75.34, 'marker': 'D', 'color':'r', 'marker_label': 'unc'})\n",
    "# def_list_dict.append({'label':r'ours $\\lambda=1$', 'cost': 0.39, 'gated_acc':59.24, 'marker': 'D', 'color':'r', 'marker_label': 'unc'})\n",
    "\n",
    "# best_list_dict = []\n",
    "# best_list_dict.append({'label':r'ours $\\lambda=1$', 'cost': 0.78, 'gated_acc':92.59, 'marker': 'D', 'color':'g', 'marker_label': 'unc'})\n",
    "# best_list_dict.append({'label':r'ours $\\lambda=1$', 'cost': 0.74, 'gated_acc':93.94, 'marker': 'D', 'color':'g', 'marker_label': 'unc'})\n",
    "# best_list_dict.append({'label':r'ours $\\lambda=1$', 'cost': 0.71, 'gated_acc':93.12, 'marker': 'D', 'color':'g', 'marker_label': 'unc'})\n",
    "# best_list_dict.append({'label':r'ours $\\lambda=1$', 'cost': 0.66, 'gated_acc':91.98, 'marker': 'D', 'color':'g', 'marker_label': 'unc'})\n",
    "# best_list_dict.append({'label':r'ours $\\lambda=1$', 'cost': 0.60, 'gated_acc':87.52, 'marker': 'D', 'color':'g', 'marker_label': 'unc'})\n",
    "# best_list_dict.append({'label':r'ours $\\lambda=1$', 'cost': 0.48, 'gated_acc':71.09, 'marker': 'D', 'color':'g', 'marker_label': 'unc'})\n",
    "# best_list_dict.append({'label':r'ours $\\lambda=1$', 'cost': 0.38, 'gated_acc':58.33, 'marker': 'D', 'color':'g', 'marker_label': 'unc'})\n",
    "\n",
    "# single_point = []\n",
    "# single_point.append({'label':r'ours trial', 'cost': 0.72, 'gated_acc':93, 'marker': 'D', 'color':'b', 'marker_label': 'unc'})\n",
    "\n"
   ]
  },
  {
   "cell_type": "code",
   "execution_count": 5,
   "id": "b21a6b50",
   "metadata": {},
   "outputs": [],
   "source": [
    "def create_list_to_plot(acc_cost_pairs, label,marker, color ,marker_label):\n",
    "    list_to_plot = []\n",
    "    for acc_cost_pair in acc_cost_pairs:\n",
    "        acc = acc_cost_pair[0]\n",
    "        cost = acc_cost_pair[1]\n",
    "        ece = acc_cost_pair[2]\n",
    "        dict_point = {'label':label, 'cost': cost, 'gated_acc':acc, 'gated_ece':ece, 'marker': marker, 'color':color, 'marker_label': marker_label}\n",
    "        list_to_plot.append(dict_point)\n",
    "    return list_to_plot"
   ]
  },
  {
   "cell_type": "code",
   "execution_count": 6,
   "id": "926267b7",
   "metadata": {},
   "outputs": [],
   "source": [
    "our_acc_pairs = [  [72.1,42,12.8],[81.5,48.6,11.1],[89.5, 58,7.3], [91.68,62.8,5.5], [93.1,69.5,3.6]]\n",
    "label = 'Ours. Approach 1, single ratio'\n",
    "marker_label = 'Ours. Approach 1, single ratio'\n",
    "color = 'r'\n",
    "marker = '.'\n",
    "our_results = create_list_to_plot(our_acc_pairs, label,marker, color ,marker_label)"
   ]
  },
  {
   "cell_type": "code",
   "execution_count": 7,
   "id": "5ca6c0ac",
   "metadata": {},
   "outputs": [],
   "source": [
    "boosted_acc_pairs = [\n",
    "# [0.390*100.0, 14.82, 26.73, 3.9] ,\n",
    "# [0.401*100.0, 15.56, 27.84] ,\n",
    "# [0.415*100.0, 16.46, 29.07] ,\n",
    "# [0.431*100.0, 17.55, 30.57] ,\n",
    "# [0.451*100.0, 18.88, 32.39] ,\n",
    "# [0.475*100.0, 20.39, 34.59] ,\n",
    "# [0.508*100.0, 22.58, 37.55] ,\n",
    "# [0.537*100.0, 24.75, 40.07] ,\n",
    "[0.577*100.0, 27.41, 43.57] ,\n",
    "[0.616*100.0, 30.11, 46.87] ,\n",
    "[0.653*100.0, 33.00, 50.01] ,\n",
    "[0.686*100.0, 35.85, 52.69] ,\n",
    "[0.716*100.0, 38.55, 55.19] ,\n",
    "# [0.745*100.0, 41.16, 57.49] ,\n",
    "[0.772*100.0, 44.24, 59.68] ,\n",
    "[0.797*100.0, 46.92, 61.61] ,\n",
    "[0.818*100.0, 49.52, 63.22] ,\n",
    "# [0.835*100.0, 51.85, 64.55] ,\n",
    "[0.853*100.0, 54.39, 65.89] ,\n",
    "# [0.867*100.0, 56.67, 66.94] ,\n",
    "[0.881*100.0, 58.74, 67.99] ,\n",
    "[0.891*100.0, 60.57, 68.73] ,\n",
    "[0.901*100.0, 62.36, 69.39] ,\n",
    "[0.907*100.0, 63.78, 69.84] ,\n",
    "[0.914*100.0, 65.12, 70.33] ,\n",
    "# [0.919*100.0, 66.50, 70.69] ,\n",
    "[0.923*100.0, 67.53, 70.93] ,\n",
    "[0.927*100.0, 68.55, 71.22] ,\n",
    "# [0.930*100.0, 69.48, 71.40] ,\n",
    "[0.931*100.0, 70.21, 71.50] ,\n",
    "[0.934*100.0, 71.00, 71.66] ,\n",
    "# [0.935*100.0, 71.71, 71.75] ,\n",
    "[0.937*100.0, 72.35, 71.82] ,\n",
    "[0.939*100.0, 73.04, 71.94] ,\n",
    "# [0.940*100.0, 73.54, 72.03] ,\n",
    "[0.941*100.0, 74.01, 72.08] ,\n",
    "# [0.942*100.0, 74.57, 72.17] ,\n",
    "[0.943*100.0, 74.90, 72.19] ,\n",
    "[0.943*100.0, 75.25, 72.21]]\n",
    "\n",
    "boosted_acc_pairs = [[100 * 0.099,  7.37, 8.93],\n",
    "                     [100 * 0.102,  7.71, 9.20],\n",
    "                     [100 * 0.107,  8.11, 9.70],\n",
    "                     [100 * 0.113,  8.61, 10.30],\n",
    "                     [100 * 0.121,  9.31, 11.05],\n",
    "                     [100 * 0.131,  10.18,  12.08],\n",
    "                     [100 * 0.147,  11.33,  13.70],\n",
    "                     [100 * 0.171,  12.87,  16.09],\n",
    "                     [100 * 0.203,  14.94,  19.24],\n",
    "                     [100 * 0.249,  17.78,  23.78],\n",
    "                     [100 * 0.309,  21.66,  29.78],\n",
    "                     [100 * 0.397,  27.03,  38.43],\n",
    "                     [100 * 0.499,  33.67,  48.46],\n",
    "                     [100 * 0.600,  40.93,  58.39],\n",
    "                     [100 * 0.682,  48.06,  66.41],\n",
    "                     [100 * 0.750,  54.84,  73.09],\n",
    "                     [100 * 0.793,  60.67,  77.22],\n",
    "                     [100 * 0.825,  65.49,  80.29],\n",
    "                     [100 * 0.846,  69.81,  82.30],\n",
    "                     [100 * 0.857,  73.09,  83.34],\n",
    "                     [100 * 0.866,  75.70,  84.15],\n",
    "                     [100 * 0.871,  77.90,  84.61],\n",
    "                     [100 * 0.874,  79.49,  84.89],\n",
    "                     [100 * 0.876,  80.82,  85.09],\n",
    "                     [100 * 0.877,  81.99,  85.22],\n",
    "                     [100 * 0.877,  82.87,  85.25],\n",
    "                     [100 * 0.878,  83.79,  85.35],\n",
    "                     [100 * 0.879,  84.45,  85.38],\n",
    "                     [100 * 0.880,  85.20,  85.45],\n",
    "                     [100 * 0.879,  85.67,  85.44],\n",
    "                     [100 * 0.881,  86.21,  85.56],\n",
    "                     [100 * 0.881,  86.60,  85.55],\n",
    "                     [100 * 0.881,  86.95,  85.57],\n",
    "                     [100 * 0.881,  87.25,  85.55],\n",
    "                     [100 * 0.881,  87.50,  85.55],\n",
    "                     [100 * 0.881,  87.74,  85.57],\n",
    "                     [100 * 0.881,  87.96,  85.55],\n",
    "                     [100 * 0.881,  88.16,  85.55],\n",
    "                     [100 * 0.881,  88.36,  85.57]\n",
    "                     ]\n",
    "label = 'boosted'\n",
    "marker_label = 'boosted'\n",
    "color = 'c'\n",
    "marker = '.'\n",
    "boosted_list_dict = create_list_to_plot(boosted_acc_pairs, label,marker, color ,marker_label)"
   ]
  },
  {
   "cell_type": "code",
   "execution_count": 8,
   "id": "c4127cba",
   "metadata": {},
   "outputs": [],
   "source": [
    "weight_per_gate_acc_pairs = [[55, 25, 12],[67, 33, 12],[70, 37, 13]]\n",
    "label = 'Ours. Approach 3, one ratio per task'\n",
    "marker_label = 'Ours. Approach 3, one ratio per task'\n",
    "color = 'k'\n",
    "marker = '.'\n",
    "our_wresults = create_list_to_plot(weight_per_gate_acc_pairs, label,marker, color ,marker_label)"
   ]
  },
  {
   "cell_type": "code",
   "execution_count": 9,
   "id": "9a702d72",
   "metadata": {},
   "outputs": [],
   "source": [
    "app2 = [[73.6, 45.7, 11.6], [88.1, 59.3, 8.0], [40.2, 14.3, 11.2], [92, 66.8, 5.2]]\n",
    "label = 'Ours. Approach 2, ignore'\n",
    "marker_label = 'Ours. Approach 2, ignore'\n",
    "color = 'g'\n",
    "marker = '.'\n",
    "our_2results = create_list_to_plot(app2, label,marker, color ,marker_label)"
   ]
  },
  {
   "cell_type": "markdown",
   "source": [],
   "metadata": {
    "collapsed": false
   }
  },
  {
   "cell_type": "code",
   "execution_count": 10,
   "id": "b4907b84",
   "metadata": {},
   "outputs": [],
   "source": [
    "app4 = [[54.1,24.5,13.9],[83.3, 49.7,12.1],[90.7, 59.6, 7.5],[93.1,66.3,4.8]]\n",
    "app4 = [[86.3,67.48,5.15],[85.9, 63.26,5.14],[82.83, 55.65, 6.93],[80.07,51.96,9.17], [73.31, 45.76, 13.47]]\n",
    "label = 'Ours. Approach 4, val'\n",
    "marker_label = 'Ours. Approach 4, val'\n",
    "color = 'b'\n",
    "marker = '.'\n",
    "our_4results = create_list_to_plot(app4, label,marker, color ,marker_label)"
   ]
  },
  {
   "cell_type": "code",
   "execution_count": 12,
   "id": "f8bc84f9",
   "metadata": {},
   "outputs": [
    {
     "data": {
      "text/plain": "<Figure size 640x480 with 1 Axes>",
      "image/png": "[encoded data removed]"
     },
     "metadata": {},
     "output_type": "display_data"
    }
   ],
   "source": [
    "font = {'family' : 'serif',\n",
    "        'size'   : 10}\n",
    "\n",
    "# combined_dicts = boosted_list_dict+our_results+our_wresults+our_2results+our_4results\n",
    "combined_dicts = boosted_list_dict+our_4results\n",
    "matplotlib.rc('font', **font)\n",
    "\n",
    "fig = plt.figure()\n",
    "ax = plt.subplot(111)\n",
    "legend_patches_dict = {}\n",
    "for dict_of_result in combined_dicts:\n",
    "    label = dict_of_result['label']\n",
    "    marker_label = dict_of_result['marker_label']\n",
    "    cost = dict_of_result['cost']\n",
    "    marker = dict_of_result['marker']\n",
    "    gated_acc = dict_of_result['gated_acc']\n",
    "    if not marker_label in legend_patches_dict.keys():\n",
    "        legend_patches_dict[marker_label] = {'color': dict_of_result['color'], 'marker': marker}\n",
    "    ax.plot(-cost, gated_acc, marker, color=dict_of_result['color'])\n",
    "# fig.xlabel('- inference cost')\n",
    "patches = []\n",
    "for patch in legend_patches_dict.keys():\n",
    "    patches.append(mlines.Line2D([], [], color=legend_patches_dict[patch]['color'], marker = legend_patches_dict[patch]['marker'], label=patch))\n",
    "ax.legend(handles=patches)\n",
    "ax.set_xlabel('-inference cost')\n",
    "ax.set_ylabel('test accuracy (with early exit)')\n",
    "# ax.legend(bbox_to_anchor=(1.1, 1.05, 0.5, 0.2))\n",
    "ax.set_in_layout(in_layout=True)\n",
    "\n",
    "plt.savefig('cifar100_perf_vs_cost.pdf')"
   ]
  },
  {
   "cell_type": "code",
   "execution_count": 45,
   "id": "4cafd5b8",
   "metadata": {},
   "outputs": [],
   "source": [
    "plt.close()"
   ]
  },
  {
   "cell_type": "code",
   "execution_count": 29,
   "id": "329ff0c1",
   "metadata": {},
   "outputs": [
    {
     "data": {
      "image/png": "[encoded data removed]",
      "text/plain": [
       "<Figure size 432x288 with 1 Axes>"
      ]
     },
     "metadata": {
      "needs_background": "light"
     },
     "output_type": "display_data"
    }
   ],
   "source": [
    "\n",
    "fig = plt.figure()\n",
    "ax = plt.subplot(111)\n",
    "legend_patches_dict = {}\n",
    "for dict_of_result in combined_dicts:\n",
    "    label = dict_of_result['label']\n",
    "    marker_label = dict_of_result['marker_label']\n",
    "    cost = dict_of_result['cost']\n",
    "    marker = dict_of_result['marker']\n",
    "    gated_ece = dict_of_result['gated_ece']\n",
    "    if not marker_label in legend_patches_dict.keys():\n",
    "        legend_patches_dict[marker_label] = {'color': dict_of_result['color'], 'marker': marker}\n",
    "    ax.plot(-cost, -gated_ece, marker, color=dict_of_result['color'])\n",
    "# fig.xlabel('- inference cost')\n",
    "patches = []\n",
    "for patch in legend_patches_dict.keys():\n",
    "    patches.append(mlines.Line2D([], [], color=legend_patches_dict[patch]['color'], marker = legend_patches_dict[patch]['marker'], label=patch))\n",
    "ax.legend(handles=patches)\n",
    "ax.set_xlabel('-inference cost')\n",
    "ax.set_ylabel('- expected calibration error')\n",
    "# ax.legend(bbox_to_anchor=(1.1, 1.05, 0.5, 0.2))\n",
    "ax.set_in_layout(in_layout=True)\n",
    "\n",
    "plt.savefig('ece_cost.pdf')"
   ]
  },
  {
   "cell_type": "code",
   "execution_count": 30,
   "id": "78b85347",
   "metadata": {},
   "outputs": [
    {
     "data": {
      "image/png": "[encoded data removed]",
      "text/plain": [
       "<Figure size 432x288 with 1 Axes>"
      ]
     },
     "metadata": {
      "needs_background": "light"
     },
     "output_type": "display_data"
    }
   ],
   "source": [
    "\n",
    "matplotlib.rc('font', **font)\n",
    "fig = plt.figure()\n",
    "ax = plt.subplot(111)\n",
    "legend_patches_dict = {}\n",
    "for dict_of_result in combined_dicts:\n",
    "    label = dict_of_result['label']\n",
    "    marker_label = dict_of_result['marker_label']\n",
    "    gated_acc = dict_of_result['gated_acc']\n",
    "    marker = dict_of_result['marker']\n",
    "    gated_ece = dict_of_result['gated_ece']\n",
    "    if not marker_label in legend_patches_dict.keys():\n",
    "        legend_patches_dict[marker_label] = {'color': dict_of_result['color'], 'marker': marker}\n",
    "    ax.plot(gated_acc, -gated_ece, marker, color=dict_of_result['color'])\n",
    "# fig.xlabel('- inference cost')\n",
    "patches = []\n",
    "for patch in legend_patches_dict.keys():\n",
    "    patches.append(mlines.Line2D([], [], color=legend_patches_dict[patch]['color'], marker = legend_patches_dict[patch]['marker'], label=patch))\n",
    "ax.legend(handles=patches)\n",
    "ax.set_xlabel('test accuracy (with early exit)')\n",
    "ax.set_ylabel('- expected calibration error')\n",
    "# ax.legend(bbox_to_anchor=(1.1, 1.05, 0.5, 0.2))\n",
    "ax.set_in_layout(in_layout=True)\n",
    "\n",
    "plt.savefig('acc_ece.pdf')"
   ]
  },
  {
   "cell_type": "code",
   "execution_count": null,
   "id": "f97fe978",
   "metadata": {},
   "outputs": [],
   "source": []
  },
  {
   "cell_type": "code",
   "execution_count": null,
   "id": "bd770c1f",
   "metadata": {},
   "outputs": [],
   "source": []
  },
  {
   "cell_type": "code",
   "execution_count": null,
   "id": "79bc9354",
   "metadata": {},
   "outputs": [],
   "source": []
  }
 ],
 "metadata": {
  "kernelspec": {
   "display_name": "Python 3 (ipykernel)",
   "language": "python",
   "name": "python3"
  },
  "language_info": {
   "codemirror_mode": {
    "name": "ipython",
    "version": 3
   },
   "file_extension": ".py",
   "mimetype": "text/x-python",
   "name": "python",
   "nbconvert_exporter": "python",
   "pygments_lexer": "ipython3",
   "version": "3.9.16"
  }
 },
 "nbformat": 4,
 "nbformat_minor": 5
}
